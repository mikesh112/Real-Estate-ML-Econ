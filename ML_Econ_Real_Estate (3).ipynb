{
  "nbformat": 4,
  "nbformat_minor": 0,
  "metadata": {
    "colab": {
      "provenance": [],
      "collapsed_sections": [
        "vJvIhbXY4K83",
        "e7KqYl8E4YHi",
        "5DKHwvZh4qMM",
        "IF1VQ2gAPMLV"
      ]
    },
    "kernelspec": {
      "name": "python3",
      "display_name": "Python 3"
    },
    "language_info": {
      "name": "python"
    }
  },
  "cells": [
    {
      "cell_type": "code",
      "source": [
        "import pandas as pd\n",
        "import numpy as np\n",
        "import statsmodels.api as sm\n",
        "from sklearn.metrics import (\n",
        "    mean_squared_error, mean_absolute_error, r2_score,\n",
        "    median_absolute_error, explained_variance_score, max_error)\n",
        "from sklearn.compose import ColumnTransformer\n",
        "from sklearn.linear_model import LinearRegression, Ridge, Lasso, SGDRegressor, HuberRegressor, ElasticNet\n",
        "from sklearn.utils import shuffle\n",
        "from sklearn.model_selection import train_test_split, KFold, GridSearchCV\n",
        "from sklearn.preprocessing import StandardScaler, OneHotEncoder\n",
        "from sklearn.pipeline import Pipeline\n",
        "import warnings\n",
        "warnings.filterwarnings(\"ignore\")\n",
        "SEED = 42\n",
        "rng = np.random.RandomState(SEED)"
      ],
      "metadata": {
        "id": "tN3M4iN_RQ7k"
      },
      "execution_count": 18,
      "outputs": []
    },
    {
      "cell_type": "markdown",
      "source": [
        "# Этап 1:\n",
        "- загрузка данных\n",
        "- проверка данных\n",
        "- дополнительная предобработка"
      ],
      "metadata": {
        "id": "vJvIhbXY4K83"
      }
    },
    {
      "cell_type": "code",
      "execution_count": 19,
      "metadata": {
        "id": "I7W99g3ozEul"
      },
      "outputs": [],
      "source": [
        "df = pd.read_csv('cian_processed_data-2.csv')"
      ]
    },
    {
      "cell_type": "code",
      "source": [
        "print(df.shape)\n",
        "print(df.head())\n",
        "print(df.describe())\n",
        "print(df.columns)"
      ],
      "metadata": {
        "colab": {
          "base_uri": "https://localhost:8080/"
        },
        "id": "brSkbTG5zgEp",
        "outputId": "ebb3b5e6-a8c1-4d63-b564-47ddf0e3b0a3"
      },
      "execution_count": 20,
      "outputs": [
        {
          "output_type": "stream",
          "name": "stdout",
          "text": [
            "(7109, 42)\n",
            "        price  rooms_count  floor  floors_count  text_len  building_year  \\\n",
            "0   8799000.0          1.0      3            10      1242         2023.0   \n",
            "1   7200000.0          2.0      8             9      1598         1985.0   \n",
            "2   9666161.0          1.0     10            13      2235         2026.0   \n",
            "3  13016046.0          2.0      2            13      2269         2026.0   \n",
            "4   3300000.0          1.0      1             5      1317         1968.0   \n",
            "\n",
            "   building_age  is_completed  living_share  ceiling_height_m  ...  \\\n",
            "0           2.0           1.0      0.294278               2.8  ...   \n",
            "1          40.0           1.0      0.600000               2.6  ...   \n",
            "2          -1.0           0.0      0.557711               2.7  ...   \n",
            "3          -1.0           0.0      0.595012               2.7  ...   \n",
            "4          57.0           1.0      0.659574               2.6  ...   \n",
            "\n",
            "   has_security  city_Казань  city_Махачкала  city_Москва  city_Пермь  \\\n",
            "0         False         True           False        False       False   \n",
            "1         False         True           False        False       False   \n",
            "2         False         True           False        False       False   \n",
            "3         False         True           False        False       False   \n",
            "4         False         True           False        False       False   \n",
            "\n",
            "   city_Санкт-Петербург  city_Сочи  city_Ярославль  price_log  \\\n",
            "0                 False      False           False  15.990149   \n",
            "1                 False      False           False  15.789592   \n",
            "2                 False      False           False  16.084142   \n",
            "3                 False      False           False  16.381694   \n",
            "4                 False      False           False  15.009433   \n",
            "\n",
            "   sqrt_total_meters  \n",
            "0           6.058052  \n",
            "1           6.855655  \n",
            "2           6.421838  \n",
            "3           8.280700  \n",
            "4           4.847680  \n",
            "\n",
            "[5 rows x 42 columns]\n",
            "              price  rooms_count        floor  floors_count     text_len  \\\n",
            "count  7.109000e+03  7109.000000  7109.000000   7109.000000  7109.000000   \n",
            "mean   1.836938e+07     1.676607     5.716838     10.992404  1085.573358   \n",
            "std    5.344365e+07     1.149339     5.101433      7.686653   620.208040   \n",
            "min    7.277000e+03     0.000000     1.000000      1.000000    17.000000   \n",
            "25%    3.840000e+06     1.000000     2.000000      5.000000   644.000000   \n",
            "50%    7.000000e+06     2.000000     4.000000      9.000000  1016.000000   \n",
            "75%    1.195000e+07     2.000000     7.000000     15.000000  1418.000000   \n",
            "max    2.148018e+09     6.000000    65.000000     90.000000  3154.000000   \n",
            "\n",
            "       building_year  building_age  is_completed  living_share  \\\n",
            "count    7109.000000   7109.000000   7109.000000   7109.000000   \n",
            "mean     2002.189478     22.869883      0.869743      0.568241   \n",
            "std        25.547978     25.492059      0.336610      0.111523   \n",
            "min      1900.000000     -5.000000      0.000000      0.050000   \n",
            "25%      1979.000000      2.000000      1.000000      0.500000   \n",
            "50%      2015.000000     10.000000      1.000000      0.586359   \n",
            "75%      2023.000000     46.000000      1.000000      0.629493   \n",
            "max      2030.000000    125.000000      1.000000      1.000000   \n",
            "\n",
            "       ceiling_height_m  is_first_floor  is_top_floor  floor_ratio  \\\n",
            "count       7109.000000     7109.000000   7109.000000  7109.000000   \n",
            "mean           2.802974        0.122943      0.137572     0.556685   \n",
            "std            1.232532        0.328395      0.344475     0.293580   \n",
            "min            0.000000        0.000000      0.000000     0.038462   \n",
            "25%            2.600000        0.000000      0.000000     0.300000   \n",
            "50%            2.700000        0.000000      0.000000     0.555556   \n",
            "75%            3.000000        0.000000      0.000000     0.800000   \n",
            "max           30.000000        1.000000      1.000000     1.000000   \n",
            "\n",
            "        bath_count    price_log  sqrt_total_meters  \n",
            "count  7109.000000  7109.000000        7109.000000  \n",
            "mean      1.128147    15.911228           7.101138  \n",
            "std       0.343821     1.039552           2.089324  \n",
            "min       1.000000     8.892611           2.828427  \n",
            "25%       1.000000    15.160983           5.735852  \n",
            "50%       1.000000    15.761421           6.655825  \n",
            "75%       1.000000    16.296242           7.981228  \n",
            "max       5.000000    21.487811          25.135035  \n",
            "Index(['price', 'rooms_count', 'floor', 'floors_count', 'text_len',\n",
            "       'building_year', 'building_age', 'is_completed', 'living_share',\n",
            "       'ceiling_height_m', 'is_first_floor', 'is_top_floor', 'floor_ratio',\n",
            "       'is_central', 'has_renovation', 'is_fine_finish', 'is_new', 'mat_brick',\n",
            "       'mat_monolith', 'mat_panel', 'mat_block', 'has_parking', 'has_balcony',\n",
            "       'has_furniture', 'bath_combined', 'bath_count', 'near_school',\n",
            "       'near_grocery', 'near_park', 'near_waterfront', 'near_metro',\n",
            "       'has_view', 'has_security', 'city_Казань', 'city_Махачкала',\n",
            "       'city_Москва', 'city_Пермь', 'city_Санкт-Петербург', 'city_Сочи',\n",
            "       'city_Ярославль', 'price_log', 'sqrt_total_meters'],\n",
            "      dtype='object')\n"
          ]
        }
      ]
    },
    {
      "cell_type": "markdown",
      "source": [
        "Небольшая предобработка"
      ],
      "metadata": {
        "id": "qIiJL1vfK7l5"
      }
    },
    {
      "cell_type": "code",
      "source": [
        "def preprocess(df: pd.DataFrame):\n",
        "    df = df.copy()\n",
        "\n",
        "    #таргет - price_log\n",
        "    y = df['price_log'].astype(float)\n",
        "    if 'price' in df.columns:\n",
        "        df.drop(columns=['price'], inplace=True)\n",
        "\n",
        "    if 'floor' in df.columns:\n",
        "        f = df['floor']\n",
        "        df['floor_lt5']  = (f < 5).astype('uint8')\n",
        "        df['floor_5_10'] = ((f >= 5) & (f <= 10)).astype('uint8')\n",
        "        df['floor_gt10'] = (f > 10).astype('uint8')\n",
        "        df.drop(columns=['floor'], inplace=True)\n",
        "\n",
        "    bool_cols = df.select_dtypes(include='bool').columns\n",
        "    df[bool_cols] = df[bool_cols].astype('uint8')\n",
        "\n",
        "    #проверка пропусков\n",
        "    assert not df.isna().any().any(), \"Обнаружены пропуски\"\n",
        "\n",
        "    #формируем X\n",
        "    X = df.drop(columns=['price_log'])\n",
        "    return X, y\n",
        "\n",
        "X, y = preprocess(df)\n",
        "print(X.dtypes.value_counts())\n",
        "X[X['city_Махачкала'] == 1].head() # проверка"
      ],
      "metadata": {
        "colab": {
          "base_uri": "https://localhost:8080/",
          "height": 342
        },
        "id": "r6ifaCDj1H9B",
        "outputId": "b81f4bb1-644d-4aea-8a83-522e9e02b486"
      },
      "execution_count": 21,
      "outputs": [
        {
          "output_type": "stream",
          "name": "stdout",
          "text": [
            "uint8      29\n",
            "float64     8\n",
            "int64       5\n",
            "Name: count, dtype: int64\n"
          ]
        },
        {
          "output_type": "execute_result",
          "data": {
            "text/plain": [
              "      rooms_count  floors_count  text_len  building_year  building_age  \\\n",
              "1421          1.0             5      1467         1980.0          45.0   \n",
              "1422          3.0             6       553         2002.0          23.0   \n",
              "1423          1.0            11       229         2019.0           6.0   \n",
              "1424          2.0             4       482         2016.0           9.0   \n",
              "1425          2.0             3      1406         1958.0          67.0   \n",
              "\n",
              "      is_completed  living_share  ceiling_height_m  is_first_floor  \\\n",
              "1421           1.0      0.421053               2.8               0   \n",
              "1422           1.0      0.629493               3.0               0   \n",
              "1423           1.0      0.500000               3.0               1   \n",
              "1424           1.0      0.400000               3.0               0   \n",
              "1425           1.0      0.588235               3.0               1   \n",
              "\n",
              "      is_top_floor  ...  city_Махачкала  city_Москва  city_Пермь  \\\n",
              "1421             1  ...               1            0           0   \n",
              "1422             0  ...               1            0           0   \n",
              "1423             0  ...               1            0           0   \n",
              "1424             0  ...               1            0           0   \n",
              "1425             0  ...               1            0           0   \n",
              "\n",
              "      city_Санкт-Петербург  city_Сочи  city_Ярославль  sqrt_total_meters  \\\n",
              "1421                     0          0               0           6.164414   \n",
              "1422                     0          0               0          10.549882   \n",
              "1423                     0          0               0           6.708204   \n",
              "1424                     0          0               0           7.071068   \n",
              "1425                     0          0               0           7.141428   \n",
              "\n",
              "      floor_lt5  floor_5_10  floor_gt10  \n",
              "1421          0           1           0  \n",
              "1422          0           1           0  \n",
              "1423          1           0           0  \n",
              "1424          1           0           0  \n",
              "1425          1           0           0  \n",
              "\n",
              "[5 rows x 42 columns]"
            ],
            "text/html": [
              "\n",
              "  <div id=\"df-e2168f49-654e-4b83-9dc2-e20f84d05654\" class=\"colab-df-container\">\n",
              "    <div>\n",
              "<style scoped>\n",
              "    .dataframe tbody tr th:only-of-type {\n",
              "        vertical-align: middle;\n",
              "    }\n",
              "\n",
              "    .dataframe tbody tr th {\n",
              "        vertical-align: top;\n",
              "    }\n",
              "\n",
              "    .dataframe thead th {\n",
              "        text-align: right;\n",
              "    }\n",
              "</style>\n",
              "<table border=\"1\" class=\"dataframe\">\n",
              "  <thead>\n",
              "    <tr style=\"text-align: right;\">\n",
              "      <th></th>\n",
              "      <th>rooms_count</th>\n",
              "      <th>floors_count</th>\n",
              "      <th>text_len</th>\n",
              "      <th>building_year</th>\n",
              "      <th>building_age</th>\n",
              "      <th>is_completed</th>\n",
              "      <th>living_share</th>\n",
              "      <th>ceiling_height_m</th>\n",
              "      <th>is_first_floor</th>\n",
              "      <th>is_top_floor</th>\n",
              "      <th>...</th>\n",
              "      <th>city_Махачкала</th>\n",
              "      <th>city_Москва</th>\n",
              "      <th>city_Пермь</th>\n",
              "      <th>city_Санкт-Петербург</th>\n",
              "      <th>city_Сочи</th>\n",
              "      <th>city_Ярославль</th>\n",
              "      <th>sqrt_total_meters</th>\n",
              "      <th>floor_lt5</th>\n",
              "      <th>floor_5_10</th>\n",
              "      <th>floor_gt10</th>\n",
              "    </tr>\n",
              "  </thead>\n",
              "  <tbody>\n",
              "    <tr>\n",
              "      <th>1421</th>\n",
              "      <td>1.0</td>\n",
              "      <td>5</td>\n",
              "      <td>1467</td>\n",
              "      <td>1980.0</td>\n",
              "      <td>45.0</td>\n",
              "      <td>1.0</td>\n",
              "      <td>0.421053</td>\n",
              "      <td>2.8</td>\n",
              "      <td>0</td>\n",
              "      <td>1</td>\n",
              "      <td>...</td>\n",
              "      <td>1</td>\n",
              "      <td>0</td>\n",
              "      <td>0</td>\n",
              "      <td>0</td>\n",
              "      <td>0</td>\n",
              "      <td>0</td>\n",
              "      <td>6.164414</td>\n",
              "      <td>0</td>\n",
              "      <td>1</td>\n",
              "      <td>0</td>\n",
              "    </tr>\n",
              "    <tr>\n",
              "      <th>1422</th>\n",
              "      <td>3.0</td>\n",
              "      <td>6</td>\n",
              "      <td>553</td>\n",
              "      <td>2002.0</td>\n",
              "      <td>23.0</td>\n",
              "      <td>1.0</td>\n",
              "      <td>0.629493</td>\n",
              "      <td>3.0</td>\n",
              "      <td>0</td>\n",
              "      <td>0</td>\n",
              "      <td>...</td>\n",
              "      <td>1</td>\n",
              "      <td>0</td>\n",
              "      <td>0</td>\n",
              "      <td>0</td>\n",
              "      <td>0</td>\n",
              "      <td>0</td>\n",
              "      <td>10.549882</td>\n",
              "      <td>0</td>\n",
              "      <td>1</td>\n",
              "      <td>0</td>\n",
              "    </tr>\n",
              "    <tr>\n",
              "      <th>1423</th>\n",
              "      <td>1.0</td>\n",
              "      <td>11</td>\n",
              "      <td>229</td>\n",
              "      <td>2019.0</td>\n",
              "      <td>6.0</td>\n",
              "      <td>1.0</td>\n",
              "      <td>0.500000</td>\n",
              "      <td>3.0</td>\n",
              "      <td>1</td>\n",
              "      <td>0</td>\n",
              "      <td>...</td>\n",
              "      <td>1</td>\n",
              "      <td>0</td>\n",
              "      <td>0</td>\n",
              "      <td>0</td>\n",
              "      <td>0</td>\n",
              "      <td>0</td>\n",
              "      <td>6.708204</td>\n",
              "      <td>1</td>\n",
              "      <td>0</td>\n",
              "      <td>0</td>\n",
              "    </tr>\n",
              "    <tr>\n",
              "      <th>1424</th>\n",
              "      <td>2.0</td>\n",
              "      <td>4</td>\n",
              "      <td>482</td>\n",
              "      <td>2016.0</td>\n",
              "      <td>9.0</td>\n",
              "      <td>1.0</td>\n",
              "      <td>0.400000</td>\n",
              "      <td>3.0</td>\n",
              "      <td>0</td>\n",
              "      <td>0</td>\n",
              "      <td>...</td>\n",
              "      <td>1</td>\n",
              "      <td>0</td>\n",
              "      <td>0</td>\n",
              "      <td>0</td>\n",
              "      <td>0</td>\n",
              "      <td>0</td>\n",
              "      <td>7.071068</td>\n",
              "      <td>1</td>\n",
              "      <td>0</td>\n",
              "      <td>0</td>\n",
              "    </tr>\n",
              "    <tr>\n",
              "      <th>1425</th>\n",
              "      <td>2.0</td>\n",
              "      <td>3</td>\n",
              "      <td>1406</td>\n",
              "      <td>1958.0</td>\n",
              "      <td>67.0</td>\n",
              "      <td>1.0</td>\n",
              "      <td>0.588235</td>\n",
              "      <td>3.0</td>\n",
              "      <td>1</td>\n",
              "      <td>0</td>\n",
              "      <td>...</td>\n",
              "      <td>1</td>\n",
              "      <td>0</td>\n",
              "      <td>0</td>\n",
              "      <td>0</td>\n",
              "      <td>0</td>\n",
              "      <td>0</td>\n",
              "      <td>7.141428</td>\n",
              "      <td>1</td>\n",
              "      <td>0</td>\n",
              "      <td>0</td>\n",
              "    </tr>\n",
              "  </tbody>\n",
              "</table>\n",
              "<p>5 rows × 42 columns</p>\n",
              "</div>\n",
              "    <div class=\"colab-df-buttons\">\n",
              "\n",
              "  <div class=\"colab-df-container\">\n",
              "    <button class=\"colab-df-convert\" onclick=\"convertToInteractive('df-e2168f49-654e-4b83-9dc2-e20f84d05654')\"\n",
              "            title=\"Convert this dataframe to an interactive table.\"\n",
              "            style=\"display:none;\">\n",
              "\n",
              "  <svg xmlns=\"http://www.w3.org/2000/svg\" height=\"24px\" viewBox=\"0 -960 960 960\">\n",
              "    <path d=\"M120-120v-720h720v720H120Zm60-500h600v-160H180v160Zm220 220h160v-160H400v160Zm0 220h160v-160H400v160ZM180-400h160v-160H180v160Zm440 0h160v-160H620v160ZM180-180h160v-160H180v160Zm440 0h160v-160H620v160Z\"/>\n",
              "  </svg>\n",
              "    </button>\n",
              "\n",
              "  <style>\n",
              "    .colab-df-container {\n",
              "      display:flex;\n",
              "      gap: 12px;\n",
              "    }\n",
              "\n",
              "    .colab-df-convert {\n",
              "      background-color: #E8F0FE;\n",
              "      border: none;\n",
              "      border-radius: 50%;\n",
              "      cursor: pointer;\n",
              "      display: none;\n",
              "      fill: #1967D2;\n",
              "      height: 32px;\n",
              "      padding: 0 0 0 0;\n",
              "      width: 32px;\n",
              "    }\n",
              "\n",
              "    .colab-df-convert:hover {\n",
              "      background-color: #E2EBFA;\n",
              "      box-shadow: 0px 1px 2px rgba(60, 64, 67, 0.3), 0px 1px 3px 1px rgba(60, 64, 67, 0.15);\n",
              "      fill: #174EA6;\n",
              "    }\n",
              "\n",
              "    .colab-df-buttons div {\n",
              "      margin-bottom: 4px;\n",
              "    }\n",
              "\n",
              "    [theme=dark] .colab-df-convert {\n",
              "      background-color: #3B4455;\n",
              "      fill: #D2E3FC;\n",
              "    }\n",
              "\n",
              "    [theme=dark] .colab-df-convert:hover {\n",
              "      background-color: #434B5C;\n",
              "      box-shadow: 0px 1px 3px 1px rgba(0, 0, 0, 0.15);\n",
              "      filter: drop-shadow(0px 1px 2px rgba(0, 0, 0, 0.3));\n",
              "      fill: #FFFFFF;\n",
              "    }\n",
              "  </style>\n",
              "\n",
              "    <script>\n",
              "      const buttonEl =\n",
              "        document.querySelector('#df-e2168f49-654e-4b83-9dc2-e20f84d05654 button.colab-df-convert');\n",
              "      buttonEl.style.display =\n",
              "        google.colab.kernel.accessAllowed ? 'block' : 'none';\n",
              "\n",
              "      async function convertToInteractive(key) {\n",
              "        const element = document.querySelector('#df-e2168f49-654e-4b83-9dc2-e20f84d05654');\n",
              "        const dataTable =\n",
              "          await google.colab.kernel.invokeFunction('convertToInteractive',\n",
              "                                                    [key], {});\n",
              "        if (!dataTable) return;\n",
              "\n",
              "        const docLinkHtml = 'Like what you see? Visit the ' +\n",
              "          '<a target=\"_blank\" href=https://colab.research.google.com/notebooks/data_table.ipynb>data table notebook</a>'\n",
              "          + ' to learn more about interactive tables.';\n",
              "        element.innerHTML = '';\n",
              "        dataTable['output_type'] = 'display_data';\n",
              "        await google.colab.output.renderOutput(dataTable, element);\n",
              "        const docLink = document.createElement('div');\n",
              "        docLink.innerHTML = docLinkHtml;\n",
              "        element.appendChild(docLink);\n",
              "      }\n",
              "    </script>\n",
              "  </div>\n",
              "\n",
              "\n",
              "    <div id=\"df-19858288-4497-4562-a134-5f97c417a7bd\">\n",
              "      <button class=\"colab-df-quickchart\" onclick=\"quickchart('df-19858288-4497-4562-a134-5f97c417a7bd')\"\n",
              "                title=\"Suggest charts\"\n",
              "                style=\"display:none;\">\n",
              "\n",
              "<svg xmlns=\"http://www.w3.org/2000/svg\" height=\"24px\"viewBox=\"0 0 24 24\"\n",
              "     width=\"24px\">\n",
              "    <g>\n",
              "        <path d=\"M19 3H5c-1.1 0-2 .9-2 2v14c0 1.1.9 2 2 2h14c1.1 0 2-.9 2-2V5c0-1.1-.9-2-2-2zM9 17H7v-7h2v7zm4 0h-2V7h2v10zm4 0h-2v-4h2v4z\"/>\n",
              "    </g>\n",
              "</svg>\n",
              "      </button>\n",
              "\n",
              "<style>\n",
              "  .colab-df-quickchart {\n",
              "      --bg-color: #E8F0FE;\n",
              "      --fill-color: #1967D2;\n",
              "      --hover-bg-color: #E2EBFA;\n",
              "      --hover-fill-color: #174EA6;\n",
              "      --disabled-fill-color: #AAA;\n",
              "      --disabled-bg-color: #DDD;\n",
              "  }\n",
              "\n",
              "  [theme=dark] .colab-df-quickchart {\n",
              "      --bg-color: #3B4455;\n",
              "      --fill-color: #D2E3FC;\n",
              "      --hover-bg-color: #434B5C;\n",
              "      --hover-fill-color: #FFFFFF;\n",
              "      --disabled-bg-color: #3B4455;\n",
              "      --disabled-fill-color: #666;\n",
              "  }\n",
              "\n",
              "  .colab-df-quickchart {\n",
              "    background-color: var(--bg-color);\n",
              "    border: none;\n",
              "    border-radius: 50%;\n",
              "    cursor: pointer;\n",
              "    display: none;\n",
              "    fill: var(--fill-color);\n",
              "    height: 32px;\n",
              "    padding: 0;\n",
              "    width: 32px;\n",
              "  }\n",
              "\n",
              "  .colab-df-quickchart:hover {\n",
              "    background-color: var(--hover-bg-color);\n",
              "    box-shadow: 0 1px 2px rgba(60, 64, 67, 0.3), 0 1px 3px 1px rgba(60, 64, 67, 0.15);\n",
              "    fill: var(--button-hover-fill-color);\n",
              "  }\n",
              "\n",
              "  .colab-df-quickchart-complete:disabled,\n",
              "  .colab-df-quickchart-complete:disabled:hover {\n",
              "    background-color: var(--disabled-bg-color);\n",
              "    fill: var(--disabled-fill-color);\n",
              "    box-shadow: none;\n",
              "  }\n",
              "\n",
              "  .colab-df-spinner {\n",
              "    border: 2px solid var(--fill-color);\n",
              "    border-color: transparent;\n",
              "    border-bottom-color: var(--fill-color);\n",
              "    animation:\n",
              "      spin 1s steps(1) infinite;\n",
              "  }\n",
              "\n",
              "  @keyframes spin {\n",
              "    0% {\n",
              "      border-color: transparent;\n",
              "      border-bottom-color: var(--fill-color);\n",
              "      border-left-color: var(--fill-color);\n",
              "    }\n",
              "    20% {\n",
              "      border-color: transparent;\n",
              "      border-left-color: var(--fill-color);\n",
              "      border-top-color: var(--fill-color);\n",
              "    }\n",
              "    30% {\n",
              "      border-color: transparent;\n",
              "      border-left-color: var(--fill-color);\n",
              "      border-top-color: var(--fill-color);\n",
              "      border-right-color: var(--fill-color);\n",
              "    }\n",
              "    40% {\n",
              "      border-color: transparent;\n",
              "      border-right-color: var(--fill-color);\n",
              "      border-top-color: var(--fill-color);\n",
              "    }\n",
              "    60% {\n",
              "      border-color: transparent;\n",
              "      border-right-color: var(--fill-color);\n",
              "    }\n",
              "    80% {\n",
              "      border-color: transparent;\n",
              "      border-right-color: var(--fill-color);\n",
              "      border-bottom-color: var(--fill-color);\n",
              "    }\n",
              "    90% {\n",
              "      border-color: transparent;\n",
              "      border-bottom-color: var(--fill-color);\n",
              "    }\n",
              "  }\n",
              "</style>\n",
              "\n",
              "      <script>\n",
              "        async function quickchart(key) {\n",
              "          const quickchartButtonEl =\n",
              "            document.querySelector('#' + key + ' button');\n",
              "          quickchartButtonEl.disabled = true;  // To prevent multiple clicks.\n",
              "          quickchartButtonEl.classList.add('colab-df-spinner');\n",
              "          try {\n",
              "            const charts = await google.colab.kernel.invokeFunction(\n",
              "                'suggestCharts', [key], {});\n",
              "          } catch (error) {\n",
              "            console.error('Error during call to suggestCharts:', error);\n",
              "          }\n",
              "          quickchartButtonEl.classList.remove('colab-df-spinner');\n",
              "          quickchartButtonEl.classList.add('colab-df-quickchart-complete');\n",
              "        }\n",
              "        (() => {\n",
              "          let quickchartButtonEl =\n",
              "            document.querySelector('#df-19858288-4497-4562-a134-5f97c417a7bd button');\n",
              "          quickchartButtonEl.style.display =\n",
              "            google.colab.kernel.accessAllowed ? 'block' : 'none';\n",
              "        })();\n",
              "      </script>\n",
              "    </div>\n",
              "    </div>\n",
              "  </div>\n"
            ],
            "application/vnd.google.colaboratory.intrinsic+json": {
              "type": "dataframe"
            }
          },
          "metadata": {},
          "execution_count": 21
        }
      ]
    },
    {
      "cell_type": "markdown",
      "source": [
        "# Этап 2: Линейная регрессия\n",
        "- Делим данные на 3 выборки\n",
        "  - обучать будем на train, а смотреть результаты по validation. test создается для дальнейших моделей\n",
        "- Обучаем модель\n",
        "- Смотрим метрики\n",
        "- Проводим тест значимости переменных"
      ],
      "metadata": {
        "id": "e7KqYl8E4YHi"
      }
    },
    {
      "cell_type": "markdown",
      "source": [
        "Делим данные"
      ],
      "metadata": {
        "id": "BgrxS5dNK0rS"
      }
    },
    {
      "cell_type": "code",
      "source": [
        "# 80 / 10 / 10\n",
        "X_train, X_temp, y_train, y_temp = train_test_split(X, y, test_size=0.2, random_state=42)\n",
        "X_val, X_test, y_val, y_test = train_test_split(X_temp, y_temp, test_size=0.5, random_state=42)\n",
        "\n",
        "X_train.shape, X_val.shape, X_test.shape\n"
      ],
      "metadata": {
        "id": "QGf2xcId0EKZ",
        "colab": {
          "base_uri": "https://localhost:8080/"
        },
        "outputId": "6f70c89f-b93b-4dd1-aa80-34efbe90c2c7"
      },
      "execution_count": 22,
      "outputs": [
        {
          "output_type": "execute_result",
          "data": {
            "text/plain": [
              "((5687, 42), (711, 42), (711, 42))"
            ]
          },
          "metadata": {},
          "execution_count": 22
        }
      ]
    },
    {
      "cell_type": "markdown",
      "source": [
        "Линейная регрессия"
      ],
      "metadata": {
        "id": "cspO8TNLK-fS"
      }
    },
    {
      "cell_type": "code",
      "source": [
        "# добавляем константу\n",
        "X_train_const = sm.add_constant(X_train)\n",
        "X_val_const   = sm.add_constant(X_val, has_constant='add')\n",
        "\n",
        "# обучение\n",
        "model = sm.OLS(y_train, X_train_const).fit()\n",
        "\n",
        "# предсказание на train и val\n",
        "y_train_pred = model.predict(X_train_const)\n",
        "y_val_pred   = model.predict(X_val_const)\n",
        "\n",
        "# краткий summary\n",
        "print(model.summary())"
      ],
      "metadata": {
        "colab": {
          "base_uri": "https://localhost:8080/"
        },
        "id": "ygNfB9AmK_qv",
        "outputId": "22cb8b7d-b0ee-4502-e471-17524d423430"
      },
      "execution_count": 23,
      "outputs": [
        {
          "output_type": "stream",
          "name": "stdout",
          "text": [
            "                            OLS Regression Results                            \n",
            "==============================================================================\n",
            "Dep. Variable:              price_log   R-squared:                       0.865\n",
            "Model:                            OLS   Adj. R-squared:                  0.864\n",
            "Method:                 Least Squares   F-statistic:                     902.0\n",
            "Date:                Mon, 27 Oct 2025   Prob (F-statistic):               0.00\n",
            "Time:                        11:05:32   Log-Likelihood:                -2586.2\n",
            "No. Observations:                5687   AIC:                             5254.\n",
            "Df Residuals:                    5646   BIC:                             5527.\n",
            "Df Model:                          40                                         \n",
            "Covariance Type:            nonrobust                                         \n",
            "========================================================================================\n",
            "                           coef    std err          t      P>|t|      [0.025      0.975]\n",
            "----------------------------------------------------------------------------------------\n",
            "const                   98.1383     21.409      4.584      0.000      56.169     140.108\n",
            "rooms_count             -0.0479      0.009     -5.309      0.000      -0.066      -0.030\n",
            "floors_count             0.0026      0.001      2.109      0.035       0.000       0.005\n",
            "text_len                5.5e-05    1.1e-05      4.999      0.000    3.34e-05    7.66e-05\n",
            "building_year           -0.0645      0.016     -4.136      0.000      -0.095      -0.034\n",
            "building_age            -0.0671      0.016     -4.294      0.000      -0.098      -0.036\n",
            "is_completed            -0.1807      0.019     -9.386      0.000      -0.218      -0.143\n",
            "living_share            -0.0522      0.051     -1.015      0.310      -0.153       0.049\n",
            "ceiling_height_m        -0.0071      0.004     -1.856      0.064      -0.015       0.000\n",
            "is_first_floor          -0.1137      0.020     -5.659      0.000      -0.153      -0.074\n",
            "is_top_floor            -0.0703      0.020     -3.574      0.000      -0.109      -0.032\n",
            "floor_ratio             -0.0049      0.037     -0.131      0.896      -0.078       0.068\n",
            "is_central               0.2250      0.014     15.587      0.000       0.197       0.253\n",
            "has_renovation          -0.0338      0.011     -2.988      0.003      -0.056      -0.012\n",
            "is_fine_finish          -0.0734      0.020     -3.600      0.000      -0.113      -0.033\n",
            "is_new                  -0.1167      0.032     -3.600      0.000      -0.180      -0.053\n",
            "mat_brick                0.0438      0.013      3.373      0.001       0.018       0.069\n",
            "mat_monolith            -0.0339      0.020     -1.667      0.096      -0.074       0.006\n",
            "mat_panel                0.0251      0.021      1.174      0.240      -0.017       0.067\n",
            "mat_block               -0.0363      0.033     -1.092      0.275      -0.101       0.029\n",
            "has_parking              0.1496      0.018      8.538      0.000       0.115       0.184\n",
            "has_balcony             -0.0120      0.012     -1.003      0.316      -0.035       0.011\n",
            "has_furniture            0.0612      0.013      4.795      0.000       0.036       0.086\n",
            "bath_combined           -0.0347      0.018     -1.966      0.049      -0.069   -9.78e-05\n",
            "bath_count              -0.0539      0.017     -3.261      0.001      -0.086      -0.021\n",
            "near_school             -0.0401      0.012     -3.361      0.001      -0.063      -0.017\n",
            "near_grocery            -0.0829      0.012     -7.201      0.000      -0.106      -0.060\n",
            "near_park                0.0719      0.012      5.978      0.000       0.048       0.095\n",
            "near_waterfront          0.0337      0.016      2.157      0.031       0.003       0.064\n",
            "near_metro              -0.0281      0.015     -1.910      0.056      -0.057       0.001\n",
            "has_view                 0.0412      0.012      3.383      0.001       0.017       0.065\n",
            "has_security             0.1374      0.016      8.442      0.000       0.105       0.169\n",
            "city_Казань             14.0216      3.058      4.586      0.000       8.027      20.016\n",
            "city_Махачкала          13.4431      3.058      4.396      0.000       7.449      19.437\n",
            "city_Москва             14.9497      3.058      4.888      0.000       8.954      20.945\n",
            "city_Пермь              13.5533      3.057      4.433      0.000       7.560      19.547\n",
            "city_Санкт-Петербург    14.2676      3.059      4.664      0.000       8.271      20.265\n",
            "city_Сочи               14.5199      3.061      4.744      0.000       8.520      20.520\n",
            "city_Ярославль          13.3833      3.058      4.377      0.000       7.389      19.378\n",
            "sqrt_total_meters        0.2979      0.005     56.874      0.000       0.288       0.308\n",
            "floor_lt5               32.6863      7.137      4.580      0.000      18.695      46.677\n",
            "floor_5_10              32.7230      7.136      4.585      0.000      18.733      46.713\n",
            "floor_gt10              32.7291      7.136      4.587      0.000      18.741      46.718\n",
            "==============================================================================\n",
            "Omnibus:                      861.912   Durbin-Watson:                   1.988\n",
            "Prob(Omnibus):                  0.000   Jarque-Bera (JB):            11020.176\n",
            "Skew:                          -0.287   Prob(JB):                         0.00\n",
            "Kurtosis:                       9.795   Cond. No.                     1.01e+16\n",
            "==============================================================================\n",
            "\n",
            "Notes:\n",
            "[1] Standard Errors assume that the covariance matrix of the errors is correctly specified.\n",
            "[2] The smallest eigenvalue is 2.95e-22. This might indicate that there are\n",
            "strong multicollinearity problems or that the design matrix is singular.\n"
          ]
        }
      ]
    },
    {
      "cell_type": "markdown",
      "source": [
        "Метрики"
      ],
      "metadata": {
        "id": "dZIqszlpLHPG"
      }
    },
    {
      "cell_type": "code",
      "source": [
        "def print_metrics(y_true, y_pred, name='Set', n_features=None):\n",
        "    n = len(y_true)\n",
        "    p = n_features if n_features else 0\n",
        "\n",
        "    rmse = np.sqrt(mean_squared_error(y_true, y_pred))\n",
        "    mae  = mean_absolute_error(y_true, y_pred)\n",
        "    r2   = r2_score(y_true, y_pred)\n",
        "    adj_r2 = 1 - (1 - r2) * (n - 1) / (n - p - 1) if p else r2\n",
        "    medae = median_absolute_error(y_true, y_pred)\n",
        "    evs   = explained_variance_score(y_true, y_pred)\n",
        "    mape  = np.mean(np.abs((np.expm1(y_pred) - np.expm1(y_true)) / np.expm1(y_true))) * 100\n",
        "    maxerr = max_error(y_true, y_pred)\n",
        "\n",
        "    # красивый вывод нам написал гпт\n",
        "    print(f'📊 {name} metrics:')\n",
        "    print(f'RMSE: {rmse:.4f}')\n",
        "    print(f'MAE : {mae:.4f}')\n",
        "    print(f'R²  : {r2:.4f}')\n",
        "    print(f'Adj.R²: {adj_r2:.4f}')\n",
        "    print(f'Median AE: {medae:.4f}')\n",
        "    print(f'Explained Var: {evs:.4f}')\n",
        "    print(f'MAPE: {mape:.2f}%')\n",
        "    print(f'Max Error: {maxerr:.4f}\\n')\n",
        "\n",
        "print_metrics(y_train, y_train_pred, 'Train')\n",
        "print_metrics(y_val, y_val_pred, 'Validation')\n"
      ],
      "metadata": {
        "colab": {
          "base_uri": "https://localhost:8080/"
        },
        "id": "mFf6vkLULBZ8",
        "outputId": "12535830-4a57-4f41-eece-a0486b8e7f0b"
      },
      "execution_count": 24,
      "outputs": [
        {
          "output_type": "stream",
          "name": "stdout",
          "text": [
            "📊 Train metrics:\n",
            "RMSE: 0.3813\n",
            "MAE : 0.2667\n",
            "R²  : 0.8647\n",
            "Adj.R²: 0.8647\n",
            "Median AE: 0.1932\n",
            "Explained Var: 0.8647\n",
            "MAPE: 29.97%\n",
            "Max Error: 3.7174\n",
            "\n",
            "📊 Validation metrics:\n",
            "RMSE: 0.4154\n",
            "MAE : 0.2710\n",
            "R²  : 0.8297\n",
            "Adj.R²: 0.8297\n",
            "Median AE: 0.1956\n",
            "Explained Var: 0.8299\n",
            "MAPE: 57.12%\n",
            "Max Error: 5.3117\n",
            "\n"
          ]
        }
      ]
    },
    {
      "cell_type": "markdown",
      "source": [
        "Давайте посмотрим еще на тестовой выборке"
      ],
      "metadata": {
        "id": "upFvAivoNYpE"
      }
    },
    {
      "cell_type": "code",
      "source": [
        "X_test_const = sm.add_constant(X_test, has_constant='add')\n",
        "y_test_pred = model.predict(X_test_const)\n",
        "\n",
        "print_metrics(y_test, y_test_pred, 'Test', n_features=X_train.shape[1])"
      ],
      "metadata": {
        "colab": {
          "base_uri": "https://localhost:8080/"
        },
        "id": "CpKVCuYaFdJH",
        "outputId": "f1532205-648a-4675-91e6-5887eb627ebf"
      },
      "execution_count": 25,
      "outputs": [
        {
          "output_type": "stream",
          "name": "stdout",
          "text": [
            "📊 Test metrics:\n",
            "RMSE: 0.3797\n",
            "MAE : 0.2689\n",
            "R²  : 0.8787\n",
            "Adj.R²: 0.8711\n",
            "Median AE: 0.1919\n",
            "Explained Var: 0.8789\n",
            "MAPE: 28.74%\n",
            "Max Error: 1.6644\n",
            "\n"
          ]
        }
      ]
    },
    {
      "cell_type": "markdown",
      "source": [
        "Лучшие метрики среди всех (RMSE 0.38, R² 0.88, MAPE 29%). Модель хорошо обобщается на данных, которые еще не видела.\n",
        "- Переобучения нет.\n",
        "- Max error 1.66 - стабильность."
      ],
      "metadata": {
        "id": "RVhzQt5qNn5d"
      }
    },
    {
      "cell_type": "markdown",
      "source": [
        "Тест значимости переменных"
      ],
      "metadata": {
        "id": "g-kbOQlYND5t"
      }
    },
    {
      "cell_type": "code",
      "source": [
        "def _stars(p):\n",
        "    return '***' if p < 0.01 else '**' if p < 0.05 else '*' if p < 0.10 else ''\n",
        "\n",
        "def print_significance_table(model, sort_by='pval'):\n",
        "    coef   = model.params\n",
        "    se     = model.bse\n",
        "    tvals  = model.tvalues\n",
        "    pvals  = model.pvalues\n",
        "    ci     = model.conf_int(alpha=0.05)\n",
        "    ci.columns = ['ci_2.5%', 'ci_97.5%']\n",
        "\n",
        "    df_sig = pd.concat([coef.rename('coef'),\n",
        "                        se.rename('std_err'),\n",
        "                        tvals.rename('t'),\n",
        "                        pvals.rename('pval'),\n",
        "                        ci], axis=1)\n",
        "\n",
        "    df_sig['sig'] = df_sig['pval'].apply(_stars)\n",
        "\n",
        "    if sort_by in ('pval', 't', 'abs_t'):\n",
        "        key = 'pval' if sort_by == 'pval' else ('t' if sort_by == 't' else None)\n",
        "        if sort_by == 'abs_t':\n",
        "            df_sig = df_sig.reindex(df_sig['t'].abs().sort_values(ascending=False).index)\n",
        "        else:\n",
        "            df_sig = df_sig.sort_values(by=key, ascending=(sort_by=='pval'))\n",
        "\n",
        "    df_print = df_sig.copy()\n",
        "    num_cols = ['coef', 'std_err', 't', 'pval', 'ci_2.5%', 'ci_97.5%']\n",
        "    df_print[num_cols] = df_print[num_cols].astype(float).round(6)\n",
        "\n",
        "\n",
        "    print(f'Variables significance (sorted by {sort_by}):')\n",
        "    print(df_print.to_string())\n",
        "\n",
        "print_significance_table(model, sort_by='pval')\n"
      ],
      "metadata": {
        "colab": {
          "base_uri": "https://localhost:8080/"
        },
        "id": "dsrs_o2ERhYv",
        "outputId": "837ccf2c-4ddb-4e19-8afe-53399d6c9632"
      },
      "execution_count": 26,
      "outputs": [
        {
          "output_type": "stream",
          "name": "stdout",
          "text": [
            "Variables significance (sorted by pval):\n",
            "                           coef    std_err          t      pval    ci_2.5%    ci_97.5%  sig\n",
            "sqrt_total_meters      0.297887   0.005238  56.874446  0.000000   0.287619    0.308154  ***\n",
            "is_central             0.224990   0.014434  15.587285  0.000000   0.196693    0.253287  ***\n",
            "is_completed          -0.180680   0.019249  -9.386355  0.000000  -0.218416   -0.142944  ***\n",
            "has_parking            0.149565   0.017518   8.537712  0.000000   0.115223    0.183907  ***\n",
            "has_security           0.137377   0.016274   8.441544  0.000000   0.105474    0.169280  ***\n",
            "near_grocery          -0.082943   0.011518  -7.201130  0.000000  -0.105523   -0.060363  ***\n",
            "near_park              0.071884   0.012025   5.978009  0.000000   0.048311    0.095457  ***\n",
            "is_first_floor        -0.113710   0.020092  -5.659332  0.000000  -0.153098   -0.074321  ***\n",
            "rooms_count           -0.047892   0.009021  -5.308799  0.000000  -0.065578   -0.030207  ***\n",
            "text_len               0.000055   0.000011   4.998677  0.000001   0.000033    0.000077  ***\n",
            "city_Москва           14.949658   3.058451   4.887984  0.000001   8.953919   20.945398  ***\n",
            "has_furniture          0.061214   0.012767   4.794637  0.000002   0.036185    0.086243  ***\n",
            "city_Сочи             14.519940   3.060758   4.743904  0.000002   8.519679   20.520201  ***\n",
            "city_Санкт-Петербург  14.267568   3.059120   4.663946  0.000003   8.270518   20.264618  ***\n",
            "floor_gt10            32.729133   7.135638   4.586714  0.000005  18.740540   46.717725  ***\n",
            "city_Казань           14.021566   3.057641   4.585746  0.000005   8.027414   20.015718  ***\n",
            "floor_5_10            32.722961   7.136195   4.585491  0.000005  18.733277   46.712645  ***\n",
            "const                 98.138348  21.408657   4.584050  0.000005  56.169155  140.107542  ***\n",
            "floor_lt5             32.686255   7.136861   4.579920  0.000005  18.695265   46.677245  ***\n",
            "city_Пермь            13.553259   3.057393   4.432946  0.000009   7.559593   19.546925  ***\n",
            "city_Махачкала        13.443054   3.057700   4.396459  0.000011   7.448787   19.437321  ***\n",
            "city_Ярославль        13.383302   3.057894   4.376641  0.000012   7.388655   19.377949  ***\n",
            "building_age          -0.067054   0.015617  -4.293623  0.000018  -0.097670   -0.036439  ***\n",
            "building_year         -0.064532   0.015604  -4.135555  0.000036  -0.095123   -0.033942  ***\n",
            "is_fine_finish        -0.073396   0.020388  -3.599967  0.000321  -0.113365   -0.033428  ***\n",
            "is_new                -0.116710   0.032422  -3.599685  0.000321  -0.180270   -0.053150  ***\n",
            "is_top_floor          -0.070335   0.019681  -3.573755  0.000355  -0.108918   -0.031753  ***\n",
            "has_view               0.041162   0.012169   3.382526  0.000723   0.017306    0.065018  ***\n",
            "mat_brick              0.043838   0.012996   3.373188  0.000748   0.018361    0.069315  ***\n",
            "near_school           -0.040086   0.011925  -3.361452  0.000780  -0.063465   -0.016708  ***\n",
            "bath_count            -0.053894   0.016529  -3.260584  0.001118  -0.086298   -0.021491  ***\n",
            "has_renovation        -0.033820   0.011317  -2.988381  0.002817  -0.056006   -0.011634  ***\n",
            "near_waterfront        0.033661   0.015603   2.157333  0.031022   0.003073    0.064249   **\n",
            "floors_count           0.002564   0.001216   2.108902  0.034997   0.000181    0.004948   **\n",
            "bath_combined         -0.034708   0.017655  -1.965925  0.049356  -0.069318   -0.000098   **\n",
            "near_metro            -0.028089   0.014709  -1.909598  0.056236  -0.056925    0.000747    *\n",
            "ceiling_height_m      -0.007068   0.003808  -1.855994  0.063506  -0.014534    0.000398    *\n",
            "mat_monolith          -0.033927   0.020357  -1.666585  0.095652  -0.073834    0.005981    *\n",
            "mat_panel              0.025145   0.021415   1.174178  0.240373  -0.016837    0.067127     \n",
            "mat_block             -0.036268   0.033201  -1.092369  0.274718  -0.101354    0.028819     \n",
            "living_share          -0.052212   0.051444  -1.014943  0.310176  -0.153062    0.048637     \n",
            "has_balcony           -0.012011   0.011975  -1.003013  0.315897  -0.035488    0.011465     \n",
            "floor_ratio           -0.004864   0.037198  -0.130769  0.895963  -0.077787    0.068058     \n"
          ]
        }
      ]
    },
    {
      "cell_type": "markdown",
      "source": [
        "Получаем очевидные результаты -\n",
        "1) mat_panel, mat_block, mat_monolith - коррелирующие, нужно убрать одну из них\n",
        "2) floor_ratio тоже коррелирует с другими параметрами про этажность\n",
        "3) floor_5_10 и другие созданные в начале признаки тоже высококоррелируют. Нужно убрать один из них.\n",
        "4) near_metro - тоже показатель слабо влияет тк метро есть только в Москве и Питере\n",
        "5) Флаги по городам тоже высоко коррелируемы, тк только по этим городам и есть данные\n",
        "\n",
        "Это хорошо, значит наша модель адекватная."
      ],
      "metadata": {
        "id": "m2uGlhNEQRVw"
      }
    },
    {
      "cell_type": "markdown",
      "source": [
        "# Этап 2.1: Убираем некоторые признаки и сравниваем результаты\n",
        "- Делаем новую предобработку\n",
        "- Обучаем модель\n",
        "- Смотрим на значимость оставшихся парамаетров\n",
        "- Чистим еще раз от незначимых параметров\n",
        "- Обучаем еще раз\n",
        "- Сравниваем результаты"
      ],
      "metadata": {
        "id": "5DKHwvZh4qMM"
      }
    },
    {
      "cell_type": "markdown",
      "source": [
        "Сделаем новую предобработку и повторим шаги."
      ],
      "metadata": {
        "id": "U-K4Vcb_Xobw"
      }
    },
    {
      "cell_type": "code",
      "source": [
        "df = pd.read_csv('cian_processed_data-2.csv')\n",
        "\n",
        "\n",
        "def preprocess(df: pd.DataFrame):\n",
        "    df = df.copy()\n",
        "\n",
        "    y = df['price_log'].astype(float)\n",
        "    if 'price' in df.columns:\n",
        "        df.drop(columns=['price'], inplace=True)\n",
        "\n",
        "    if 'floor' in df.columns:\n",
        "        f = df['floor']\n",
        "        df['floor_lt5']  = (f < 5).astype('uint8')\n",
        "        df['floor_5_10'] = ((f >= 5) & (f <= 10)).astype('uint8')\n",
        "        df['floor_gt10'] = (f > 10).astype('uint8')\n",
        "        df.drop(columns=['floor'], inplace=True)\n",
        "\n",
        "    if 'floor_gt10' in df.columns:\n",
        "        df.drop(columns=['floor_gt10'], inplace=True)\n",
        "\n",
        "\n",
        "    if 'near_metro' in df.columns and 'city_Москва' in df.columns:\n",
        "        df['near_metro_city_moscow'] = (df['near_metro'].astype('uint8') * df['city_Москва'].astype('uint8')).astype('uint8')\n",
        "        df.drop(columns=['city_Москва'], inplace=True, errors='ignore')\n",
        "\n",
        "    if 'mat_panel' in df.columns:\n",
        "        df.drop(columns=['mat_panel'], inplace=True)\n",
        "\n",
        "    for col in ['building_year', 'floor_ratio']:\n",
        "        if col in df.columns:\n",
        "            df.drop(columns=[col], inplace=True)\n",
        "\n",
        "    bool_cols = df.select_dtypes(include='bool').columns\n",
        "    if len(bool_cols) > 0:\n",
        "        df[bool_cols] = df[bool_cols].astype('uint8')\n",
        "\n",
        "    assert not df.isna().any().any(), \"Обнаружены пропуски\"\n",
        "\n",
        "    X = df.drop(columns=['price_log'])\n",
        "    return X, y\n",
        "\n",
        "\n",
        "X, y = preprocess(df)\n",
        "print(X.shape, y.shape)\n",
        "X.dtypes.value_counts()\n"
      ],
      "metadata": {
        "colab": {
          "base_uri": "https://localhost:8080/",
          "height": 196
        },
        "id": "XtgrVRNqXsji",
        "outputId": "b650a57e-f3ef-421e-b482-c5d72f9a8b7c"
      },
      "execution_count": 27,
      "outputs": [
        {
          "output_type": "stream",
          "name": "stdout",
          "text": [
            "(7109, 38) (7109,)\n"
          ]
        },
        {
          "output_type": "execute_result",
          "data": {
            "text/plain": [
              "uint8      27\n",
              "float64     6\n",
              "int64       5\n",
              "Name: count, dtype: int64"
            ],
            "text/html": [
              "<div>\n",
              "<style scoped>\n",
              "    .dataframe tbody tr th:only-of-type {\n",
              "        vertical-align: middle;\n",
              "    }\n",
              "\n",
              "    .dataframe tbody tr th {\n",
              "        vertical-align: top;\n",
              "    }\n",
              "\n",
              "    .dataframe thead th {\n",
              "        text-align: right;\n",
              "    }\n",
              "</style>\n",
              "<table border=\"1\" class=\"dataframe\">\n",
              "  <thead>\n",
              "    <tr style=\"text-align: right;\">\n",
              "      <th></th>\n",
              "      <th>count</th>\n",
              "    </tr>\n",
              "  </thead>\n",
              "  <tbody>\n",
              "    <tr>\n",
              "      <th>uint8</th>\n",
              "      <td>27</td>\n",
              "    </tr>\n",
              "    <tr>\n",
              "      <th>float64</th>\n",
              "      <td>6</td>\n",
              "    </tr>\n",
              "    <tr>\n",
              "      <th>int64</th>\n",
              "      <td>5</td>\n",
              "    </tr>\n",
              "  </tbody>\n",
              "</table>\n",
              "</div><br><label><b>dtype:</b> int64</label>"
            ]
          },
          "metadata": {},
          "execution_count": 27
        }
      ]
    },
    {
      "cell_type": "markdown",
      "source": [
        "Обучаем модель"
      ],
      "metadata": {
        "id": "NVS0nP645I0O"
      }
    },
    {
      "cell_type": "code",
      "source": [
        "# 80 / 10 / 10\n",
        "X_train, X_temp, y_train, y_temp = train_test_split(X, y, test_size=0.2, random_state=42)\n",
        "X_val, X_test, y_val, y_test = train_test_split(X_temp, y_temp, test_size=0.5, random_state=42)\n",
        "\n",
        "X_train_2, X_val_2, X_test_2 = X_train, X_val, X_test # для сравнения остальных моделей\n",
        "\n",
        "X_train_const = sm.add_constant(X_train)\n",
        "X_val_const   = sm.add_constant(X_val, has_constant='add')\n",
        "\n",
        "model = sm.OLS(y_train, X_train_const).fit()\n",
        "\n",
        "y_train_pred = model.predict(X_train_const)\n",
        "y_val_pred   = model.predict(X_val_const)\n",
        "\n",
        "print(model.summary())"
      ],
      "metadata": {
        "colab": {
          "base_uri": "https://localhost:8080/"
        },
        "id": "oW7yPDs2Xy_g",
        "outputId": "f162e007-bc08-4fa1-9b3e-874573687a40"
      },
      "execution_count": 28,
      "outputs": [
        {
          "output_type": "stream",
          "name": "stdout",
          "text": [
            "                            OLS Regression Results                            \n",
            "==============================================================================\n",
            "Dep. Variable:              price_log   R-squared:                       0.864\n",
            "Model:                            OLS   Adj. R-squared:                  0.863\n",
            "Method:                 Least Squares   F-statistic:                     946.3\n",
            "Date:                Mon, 27 Oct 2025   Prob (F-statistic):               0.00\n",
            "Time:                        11:05:33   Log-Likelihood:                -2595.3\n",
            "No. Observations:                5687   AIC:                             5269.\n",
            "Df Residuals:                    5648   BIC:                             5528.\n",
            "Df Model:                          38                                         \n",
            "Covariance Type:            nonrobust                                         \n",
            "==========================================================================================\n",
            "                             coef    std err          t      P>|t|      [0.025      0.975]\n",
            "------------------------------------------------------------------------------------------\n",
            "const                     15.1203      0.069    220.099      0.000      14.986      15.255\n",
            "rooms_count               -0.0464      0.009     -5.138      0.000      -0.064      -0.029\n",
            "floors_count               0.0031      0.001      3.067      0.002       0.001       0.005\n",
            "text_len                6.045e-05   1.09e-05      5.538      0.000     3.9e-05    8.18e-05\n",
            "building_age              -0.0025      0.000     -8.586      0.000      -0.003      -0.002\n",
            "is_completed              -0.1462      0.017     -8.389      0.000      -0.180      -0.112\n",
            "living_share              -0.0607      0.051     -1.178      0.239      -0.162       0.040\n",
            "ceiling_height_m          -0.0070      0.004     -1.830      0.067      -0.014       0.000\n",
            "is_first_floor            -0.1123      0.017     -6.584      0.000      -0.146      -0.079\n",
            "is_top_floor              -0.0719      0.017     -4.290      0.000      -0.105      -0.039\n",
            "is_central                 0.2293      0.014     15.912      0.000       0.201       0.258\n",
            "has_renovation            -0.0374      0.011     -3.311      0.001      -0.060      -0.015\n",
            "is_fine_finish            -0.0713      0.020     -3.496      0.000      -0.111      -0.031\n",
            "is_new                    -0.1217      0.032     -3.753      0.000      -0.185      -0.058\n",
            "mat_brick                  0.0409      0.013      3.177      0.001       0.016       0.066\n",
            "mat_monolith              -0.0322      0.020     -1.583      0.113      -0.072       0.008\n",
            "mat_block                 -0.0350      0.033     -1.052      0.293      -0.100       0.030\n",
            "has_parking                0.1557      0.017      8.906      0.000       0.121       0.190\n",
            "has_balcony               -0.0126      0.012     -1.056      0.291      -0.036       0.011\n",
            "has_furniture              0.0596      0.013      4.669      0.000       0.035       0.085\n",
            "bath_combined             -0.0354      0.018     -2.001      0.045      -0.070      -0.001\n",
            "bath_count                -0.0525      0.016     -3.193      0.001      -0.085      -0.020\n",
            "near_school               -0.0395      0.012     -3.309      0.001      -0.063      -0.016\n",
            "near_grocery              -0.0848      0.012     -7.361      0.000      -0.107      -0.062\n",
            "near_park                  0.0707      0.012      5.870      0.000       0.047       0.094\n",
            "near_waterfront            0.0328      0.016      2.103      0.035       0.002       0.063\n",
            "near_metro                -0.0262      0.015     -1.704      0.089      -0.056       0.004\n",
            "has_view                   0.0398      0.012      3.269      0.001       0.016       0.064\n",
            "has_security               0.1367      0.016      8.388      0.000       0.105       0.169\n",
            "city_Казань               -0.9422      0.038    -24.537      0.000      -1.018      -0.867\n",
            "city_Махачкала            -1.5183      0.040    -37.901      0.000      -1.597      -1.440\n",
            "city_Пермь                -1.4074      0.038    -36.757      0.000      -1.482      -1.332\n",
            "city_Санкт-Петербург      -0.7033      0.040    -17.717      0.000      -0.781      -0.625\n",
            "city_Сочи                 -0.4567      0.038    -11.936      0.000      -0.532      -0.382\n",
            "city_Ярославль            -1.5805      0.039    -40.832      0.000      -1.656      -1.505\n",
            "sqrt_total_meters          0.2963      0.005     56.384      0.000       0.286       0.307\n",
            "floor_lt5                 -0.0388      0.020     -1.899      0.058      -0.079       0.001\n",
            "floor_5_10                -0.0032      0.019     -0.171      0.864      -0.040       0.034\n",
            "near_metro_city_moscow    -0.0373      0.050     -0.749      0.454      -0.135       0.060\n",
            "==============================================================================\n",
            "Omnibus:                      859.614   Durbin-Watson:                   1.986\n",
            "Prob(Omnibus):                  0.000   Jarque-Bera (JB):            11094.745\n",
            "Skew:                          -0.278   Prob(JB):                         0.00\n",
            "Kurtosis:                       9.820   Cond. No.                     2.67e+04\n",
            "==============================================================================\n",
            "\n",
            "Notes:\n",
            "[1] Standard Errors assume that the covariance matrix of the errors is correctly specified.\n",
            "[2] The condition number is large, 2.67e+04. This might indicate that there are\n",
            "strong multicollinearity or other numerical problems.\n"
          ]
        }
      ]
    },
    {
      "cell_type": "markdown",
      "source": [
        "Смотрим на метрики новой модели"
      ],
      "metadata": {
        "id": "FiagqJE65K_S"
      }
    },
    {
      "cell_type": "code",
      "source": [
        "print_metrics(y_train, y_train_pred, 'Train')\n",
        "print_metrics(y_val, y_val_pred, 'Validation')"
      ],
      "metadata": {
        "colab": {
          "base_uri": "https://localhost:8080/"
        },
        "id": "gwxcTOVCYGiZ",
        "outputId": "5904f211-7f47-4e92-b49e-82da7218d858"
      },
      "execution_count": 29,
      "outputs": [
        {
          "output_type": "stream",
          "name": "stdout",
          "text": [
            "📊 Train metrics:\n",
            "RMSE: 0.3819\n",
            "MAE : 0.2669\n",
            "R²  : 0.8643\n",
            "Adj.R²: 0.8643\n",
            "Median AE: 0.1923\n",
            "Explained Var: 0.8643\n",
            "MAPE: 30.00%\n",
            "Max Error: 3.7211\n",
            "\n",
            "📊 Validation metrics:\n",
            "RMSE: 0.4148\n",
            "MAE : 0.2696\n",
            "R²  : 0.8301\n",
            "Adj.R²: 0.8301\n",
            "Median AE: 0.1906\n",
            "Explained Var: 0.8303\n",
            "MAPE: 57.20%\n",
            "Max Error: 5.3171\n",
            "\n"
          ]
        }
      ]
    },
    {
      "cell_type": "markdown",
      "source": [
        "Смотрим на значимость показателей"
      ],
      "metadata": {
        "id": "NCi6IKVJ5Nz3"
      }
    },
    {
      "cell_type": "code",
      "source": [
        "print_significance_table(model, sort_by='pval')"
      ],
      "metadata": {
        "colab": {
          "base_uri": "https://localhost:8080/"
        },
        "id": "A4J_CKr5YKh9",
        "outputId": "fc5237e2-8a63-4423-8386-1f517f93a6b0"
      },
      "execution_count": 30,
      "outputs": [
        {
          "output_type": "stream",
          "name": "stdout",
          "text": [
            "Variables significance (sorted by pval):\n",
            "                             coef   std_err           t      pval    ci_2.5%   ci_97.5%  sig\n",
            "const                   15.120316  0.068698  220.099001  0.000000  14.985642  15.254990  ***\n",
            "sqrt_total_meters        0.296258  0.005254   56.383712  0.000000   0.285957   0.306558  ***\n",
            "city_Ярославль          -1.580469  0.038706  -40.832143  0.000000  -1.656349  -1.504589  ***\n",
            "city_Махачкала          -1.518274  0.040059  -37.900581  0.000000  -1.596806  -1.439743  ***\n",
            "city_Пермь              -1.407412  0.038290  -36.757105  0.000000  -1.482474  -1.332350  ***\n",
            "city_Казань             -0.942230  0.038401  -24.536631  0.000000  -1.017511  -0.866949  ***\n",
            "city_Санкт-Петербург    -0.703265  0.039695  -17.716650  0.000000  -0.781083  -0.625447  ***\n",
            "is_central               0.229277  0.014409   15.912354  0.000000   0.201030   0.257524  ***\n",
            "city_Сочи               -0.456691  0.038261  -11.936039  0.000000  -0.531698  -0.381683  ***\n",
            "has_parking              0.155671  0.017480    8.905713  0.000000   0.121403   0.189938  ***\n",
            "building_age            -0.002493  0.000290   -8.585851  0.000000  -0.003063  -0.001924  ***\n",
            "is_completed            -0.146215  0.017429   -8.389111  0.000000  -0.180383  -0.112047  ***\n",
            "has_security             0.136708  0.016298    8.388057  0.000000   0.104758   0.168659  ***\n",
            "near_grocery            -0.084828  0.011524   -7.360749  0.000000  -0.107420  -0.062235  ***\n",
            "is_first_floor          -0.112340  0.017062   -6.584292  0.000000  -0.145787  -0.078892  ***\n",
            "near_park                0.070680  0.012040    5.870414  0.000000   0.047077   0.094284  ***\n",
            "text_len                 0.000060  0.000011    5.537611  0.000000   0.000039   0.000082  ***\n",
            "rooms_count             -0.046400  0.009031   -5.137697  0.000000  -0.064105  -0.028695  ***\n",
            "has_furniture            0.059636  0.012772    4.669255  0.000003   0.034598   0.084674  ***\n",
            "is_top_floor            -0.071870  0.016754   -4.289723  0.000018  -0.104714  -0.039026  ***\n",
            "is_new                  -0.121692  0.032423   -3.753318  0.000176  -0.185253  -0.058132  ***\n",
            "is_fine_finish          -0.071263  0.020383   -3.496216  0.000476  -0.111222  -0.031305  ***\n",
            "has_renovation          -0.037414  0.011298   -3.311491  0.000934  -0.059562  -0.015265  ***\n",
            "near_school             -0.039502  0.011937   -3.309169  0.000942  -0.062903  -0.016101  ***\n",
            "has_view                 0.039828  0.012183    3.269292  0.001085   0.015946   0.063711  ***\n",
            "bath_count              -0.052511  0.016447   -3.192693  0.001417  -0.084754  -0.020268  ***\n",
            "mat_brick                0.040887  0.012871    3.176707  0.001498   0.015655   0.066120  ***\n",
            "floors_count             0.003054  0.000996    3.066634  0.002175   0.001102   0.005006  ***\n",
            "near_waterfront          0.032846  0.015615    2.103418  0.035473   0.002234   0.063457   **\n",
            "bath_combined           -0.035379  0.017680   -2.001137  0.045425  -0.070038  -0.000720   **\n",
            "floor_lt5               -0.038796  0.020427   -1.899222  0.057586  -0.078841   0.001249    *\n",
            "ceiling_height_m        -0.006977  0.003813   -1.829740  0.067342  -0.014452   0.000498    *\n",
            "near_metro              -0.026185  0.015370   -1.703639  0.088504  -0.056317   0.003946    *\n",
            "mat_monolith            -0.032238  0.020359   -1.583476  0.113369  -0.072150   0.007674     \n",
            "living_share            -0.060655  0.051476   -1.178323  0.238718  -0.161568   0.040257     \n",
            "has_balcony             -0.012624  0.011954   -1.056064  0.290984  -0.036058   0.010810     \n",
            "mat_block               -0.034993  0.033272   -1.051734  0.292967  -0.100218   0.030232     \n",
            "near_metro_city_moscow  -0.037265  0.049725   -0.749415  0.453638  -0.134744   0.060215     \n",
            "floor_5_10              -0.003225  0.018810   -0.171472  0.863859  -0.040101   0.033650     \n"
          ]
        }
      ]
    },
    {
      "cell_type": "markdown",
      "source": [
        "Добавим еще изменений и сравним"
      ],
      "metadata": {
        "id": "BGoT9-JCZPzH"
      }
    },
    {
      "cell_type": "code",
      "source": [
        "import statsmodels.api as sm\n",
        "\n",
        "drop_cols = ['floor_5_10', 'near_metro_city_moscow', 'living_share', 'has_balcony', 'mat_block']\n",
        "\n",
        "def make_reduced(dfX):\n",
        "    Xr = dfX.copy()\n",
        "    for c in drop_cols:\n",
        "        if c in Xr.columns:\n",
        "            Xr.drop(columns=[c], inplace=True)\n",
        "    return Xr\n",
        "\n",
        "X_train_r = make_reduced(X_train)\n",
        "X_val_r   = make_reduced(X_val)\n",
        "X_test_r  = make_reduced(X_test)\n",
        "\n",
        "X_train_r_const = sm.add_constant(X_train_r, has_constant='add')\n",
        "X_val_r_const   = sm.add_constant(X_val_r,   has_constant='add')\n",
        "\n",
        "model_reduced = sm.OLS(y_train, X_train_r_const).fit()\n",
        "y_train_pred_r = model_reduced.predict(X_train_r_const)\n",
        "y_val_pred_r   = model_reduced.predict(X_val_r_const)\n",
        "\n",
        "print(model_reduced.summary())\n",
        "\n",
        "print_metrics(y_train, y_train_pred_r, 'Train (Reduced)', n_features=X_train_r_const.shape[1]-1)\n",
        "print_metrics(y_val,   y_val_pred_r,   'Validation (Reduced)', n_features=X_val_r_const.shape[1]-1)"
      ],
      "metadata": {
        "colab": {
          "base_uri": "https://localhost:8080/"
        },
        "id": "LJyFaX16YRKN",
        "outputId": "628e347c-7d6d-495e-dd7a-860c7c07e478"
      },
      "execution_count": 31,
      "outputs": [
        {
          "output_type": "stream",
          "name": "stdout",
          "text": [
            "                            OLS Regression Results                            \n",
            "==============================================================================\n",
            "Dep. Variable:              price_log   R-squared:                       0.864\n",
            "Model:                            OLS   Adj. R-squared:                  0.863\n",
            "Method:                 Least Squares   F-statistic:                     1090.\n",
            "Date:                Mon, 27 Oct 2025   Prob (F-statistic):               0.00\n",
            "Time:                        11:05:33   Log-Likelihood:                -2597.3\n",
            "No. Observations:                5687   AIC:                             5263.\n",
            "Df Residuals:                    5653   BIC:                             5489.\n",
            "Df Model:                          33                                         \n",
            "Covariance Type:            nonrobust                                         \n",
            "========================================================================================\n",
            "                           coef    std err          t      P>|t|      [0.025      0.975]\n",
            "----------------------------------------------------------------------------------------\n",
            "const                   15.0658      0.053    283.298      0.000      14.962      15.170\n",
            "rooms_count             -0.0494      0.009     -5.582      0.000      -0.067      -0.032\n",
            "floors_count             0.0031      0.001      3.439      0.001       0.001       0.005\n",
            "text_len              5.816e-05   1.08e-05      5.377      0.000     3.7e-05    7.94e-05\n",
            "building_age            -0.0025      0.000     -8.879      0.000      -0.003      -0.002\n",
            "is_completed            -0.1487      0.017     -8.581      0.000      -0.183      -0.115\n",
            "ceiling_height_m        -0.0070      0.004     -1.826      0.068      -0.014       0.001\n",
            "is_first_floor          -0.1097      0.017     -6.486      0.000      -0.143      -0.077\n",
            "is_top_floor            -0.0721      0.017     -4.313      0.000      -0.105      -0.039\n",
            "is_central               0.2295      0.014     15.947      0.000       0.201       0.258\n",
            "has_renovation          -0.0384      0.011     -3.409      0.001      -0.061      -0.016\n",
            "is_fine_finish          -0.0696      0.020     -3.424      0.001      -0.109      -0.030\n",
            "is_new                  -0.1231      0.032     -3.799      0.000      -0.187      -0.060\n",
            "mat_brick                0.0408      0.013      3.173      0.002       0.016       0.066\n",
            "mat_monolith            -0.0339      0.020     -1.673      0.094      -0.074       0.006\n",
            "has_parking              0.1567      0.017      8.982      0.000       0.122       0.191\n",
            "has_furniture            0.0597      0.013      4.674      0.000       0.035       0.085\n",
            "bath_combined           -0.0369      0.018     -2.108      0.035      -0.071      -0.003\n",
            "bath_count              -0.0562      0.016     -3.460      0.001      -0.088      -0.024\n",
            "near_school             -0.0403      0.012     -3.383      0.001      -0.064      -0.017\n",
            "near_grocery            -0.0849      0.012     -7.379      0.000      -0.107      -0.062\n",
            "near_park                0.0711      0.012      5.916      0.000       0.048       0.095\n",
            "near_waterfront          0.0328      0.016      2.100      0.036       0.002       0.063\n",
            "near_metro              -0.0292      0.015     -1.987      0.047      -0.058      -0.000\n",
            "has_view                 0.0398      0.012      3.291      0.001       0.016       0.064\n",
            "has_security             0.1369      0.016      8.411      0.000       0.105       0.169\n",
            "city_Казань             -0.9201      0.030    -31.157      0.000      -0.978      -0.862\n",
            "city_Махачкала          -1.5015      0.034    -44.719      0.000      -1.567      -1.436\n",
            "city_Пермь              -1.3890      0.031    -45.302      0.000      -1.449      -1.329\n",
            "city_Санкт-Петербург    -0.6795      0.030    -22.439      0.000      -0.739      -0.620\n",
            "city_Сочи               -0.4396      0.030    -14.449      0.000      -0.499      -0.380\n",
            "city_Ярославль          -1.5604      0.031    -50.163      0.000      -1.621      -1.499\n",
            "sqrt_total_meters        0.2973      0.005     57.118      0.000       0.287       0.308\n",
            "floor_lt5               -0.0361      0.013     -2.874      0.004      -0.061      -0.011\n",
            "==============================================================================\n",
            "Omnibus:                      851.075   Durbin-Watson:                   1.986\n",
            "Prob(Omnibus):                  0.000   Jarque-Bera (JB):            10860.024\n",
            "Skew:                          -0.272   Prob(JB):                         0.00\n",
            "Kurtosis:                       9.748   Cond. No.                     1.96e+04\n",
            "==============================================================================\n",
            "\n",
            "Notes:\n",
            "[1] Standard Errors assume that the covariance matrix of the errors is correctly specified.\n",
            "[2] The condition number is large, 1.96e+04. This might indicate that there are\n",
            "strong multicollinearity or other numerical problems.\n",
            "📊 Train (Reduced) metrics:\n",
            "RMSE: 0.3820\n",
            "MAE : 0.2671\n",
            "R²  : 0.8642\n",
            "Adj.R²: 0.8634\n",
            "Median AE: 0.1936\n",
            "Explained Var: 0.8642\n",
            "MAPE: 30.00%\n",
            "Max Error: 3.7170\n",
            "\n",
            "📊 Validation (Reduced) metrics:\n",
            "RMSE: 0.4151\n",
            "MAE : 0.2701\n",
            "R²  : 0.8299\n",
            "Adj.R²: 0.8216\n",
            "Median AE: 0.1921\n",
            "Explained Var: 0.8301\n",
            "MAPE: 57.02%\n",
            "Max Error: 5.3102\n",
            "\n"
          ]
        }
      ]
    },
    {
      "cell_type": "markdown",
      "source": [
        "Смотрим на значимость"
      ],
      "metadata": {
        "id": "RhNDFyP87Wtp"
      }
    },
    {
      "cell_type": "code",
      "source": [
        "print_significance_table(model_reduced, sort_by='pval')"
      ],
      "metadata": {
        "colab": {
          "base_uri": "https://localhost:8080/"
        },
        "id": "0NMZeMq67QIM",
        "outputId": "4960d402-0b99-4986-942d-bfd28c5e58bd"
      },
      "execution_count": 32,
      "outputs": [
        {
          "output_type": "stream",
          "name": "stdout",
          "text": [
            "Variables significance (sorted by pval):\n",
            "                           coef   std_err           t      pval    ci_2.5%   ci_97.5%  sig\n",
            "const                 15.065817  0.053180  283.297809  0.000000  14.961564  15.170071  ***\n",
            "city_Махачкала        -1.501531  0.033577  -44.719026  0.000000  -1.567354  -1.435707  ***\n",
            "city_Ярославль        -1.560421  0.031107  -50.163200  0.000000  -1.621402  -1.499439  ***\n",
            "city_Пермь            -1.388963  0.030660  -45.301732  0.000000  -1.449069  -1.328857  ***\n",
            "sqrt_total_meters      0.297337  0.005206   57.118127  0.000000   0.287132   0.307542  ***\n",
            "city_Казань           -0.920108  0.029532  -31.156564  0.000000  -0.978002  -0.862215  ***\n",
            "city_Санкт-Петербург  -0.679474  0.030280  -22.439398  0.000000  -0.738835  -0.620113  ***\n",
            "is_central             0.229502  0.014391   15.947493  0.000000   0.201290   0.257714  ***\n",
            "city_Сочи             -0.439551  0.030421  -14.448770  0.000000  -0.499188  -0.379913  ***\n",
            "has_parking            0.156672  0.017444    8.981672  0.000000   0.122476   0.190868  ***\n",
            "building_age          -0.002533  0.000285   -8.878738  0.000000  -0.003092  -0.001974  ***\n",
            "is_completed          -0.148655  0.017323   -8.581400  0.000000  -0.182614  -0.114695  ***\n",
            "has_security           0.136897  0.016275    8.411302  0.000000   0.104991   0.168803  ***\n",
            "near_grocery          -0.084915  0.011507   -7.379108  0.000000  -0.107474  -0.062356  ***\n",
            "is_first_floor        -0.109718  0.016917   -6.485644  0.000000  -0.142882  -0.076554  ***\n",
            "near_park              0.071098  0.012017    5.916166  0.000000   0.047539   0.094656  ***\n",
            "rooms_count           -0.049446  0.008858   -5.581969  0.000000  -0.066812  -0.032081  ***\n",
            "text_len               0.000058  0.000011    5.377029  0.000000   0.000037   0.000079  ***\n",
            "has_furniture          0.059670  0.012766    4.674237  0.000003   0.034644   0.084695  ***\n",
            "is_top_floor          -0.072082  0.016713   -4.312871  0.000016  -0.104846  -0.039318  ***\n",
            "is_new                -0.123079  0.032400   -3.798757  0.000147  -0.186596  -0.059563  ***\n",
            "bath_count            -0.056239  0.016253   -3.460121  0.000544  -0.088101  -0.024376  ***\n",
            "floors_count           0.003129  0.000910    3.439120  0.000588   0.001345   0.004912  ***\n",
            "is_fine_finish        -0.069610  0.020329   -3.424270  0.000621  -0.109462  -0.029759  ***\n",
            "has_renovation        -0.038439  0.011277   -3.408752  0.000657  -0.060546  -0.016333  ***\n",
            "near_school           -0.040294  0.011909   -3.383371  0.000721  -0.063641  -0.016947  ***\n",
            "has_view               0.039842  0.012107    3.290911  0.001005   0.016108   0.063575  ***\n",
            "mat_brick              0.040818  0.012865    3.172820  0.001518   0.015598   0.066038  ***\n",
            "floor_lt5             -0.036097  0.012560   -2.873911  0.004069  -0.060719  -0.011474  ***\n",
            "bath_combined         -0.036904  0.017503   -2.108400  0.035040  -0.071217  -0.002591   **\n",
            "near_waterfront        0.032777  0.015608    2.100059  0.035768   0.002180   0.063375   **\n",
            "near_metro            -0.029231  0.014713   -1.986739  0.047000  -0.058073  -0.000388   **\n",
            "ceiling_height_m      -0.006962  0.003812   -1.826086  0.067890  -0.014436   0.000512    *\n",
            "mat_monolith          -0.033933  0.020286   -1.672767  0.094428  -0.073701   0.005834    *\n"
          ]
        }
      ]
    },
    {
      "cell_type": "markdown",
      "source": [
        "Сравниение метрик:\n",
        "```\n",
        "Метрика              | Модель 1      | Модель 2      | Модель 3\n",
        "-----------------------------------------------------------\n",
        "Train RMSE           | 0.3813        | 0.3819        | 0.3820\n",
        "Train MAE            | 0.2667        | 0.2669        | 0.2671\n",
        "Train R²             | 0.8647        | 0.8643        | 0.8642\n",
        "Train Adj.R²         | 0.8647        | 0.8643        | 0.8634\n",
        "Train Median AE      | 0.1932        | 0.1923        | 0.1936\n",
        "Train Explained Var  | 0.8647        | 0.8643        | 0.8642\n",
        "Train MAPE           | 29.97%        | 30.00%        | 30.00%\n",
        "Train Max Error      | 3.7174        | 3.7211        | 3.7170\n",
        "\n",
        "Validation RMSE      | 0.4154        | 0.4148        | 0.4151\n",
        "Validation MAE       | 0.2710        | 0.2696        | 0.2701\n",
        "Validation R²        | 0.8297        | 0.8301        | 0.8299\n",
        "Validation Adj.R²    | 0.8297        | 0.8301        | 0.8216\n",
        "Validation Median AE | 0.1956        | 0.1906        | 0.1921\n",
        "Validation Expl Var  | 0.8299        | 0.8303        | 0.8301\n",
        "Validation MAPE      | 57.12%        | 57.20%        | 57.02%\n",
        "Validation Max Error | 5.3117        | 5.3171        | 5.3102\n",
        "```\n",
        "\n"
      ],
      "metadata": {
        "id": "-LvI_7bw5gFG"
      }
    },
    {
      "cell_type": "markdown",
      "source": [
        "Модель 2 является оптимальной - она показывает стабильно хорошие результаты на валидации при меньшем количестве признаков.\n",
        "\n",
        "- Лучшие показатели на валидации (RMSE, MAE, R²) и лучшая медианная ошибка, наименьшее переобучение среди всех моделей.\n",
        "- Существенное падение Adj.R² на валидации (0.8216) у модели 3"
      ],
      "metadata": {
        "id": "KrEIF4Bo7id8"
      }
    },
    {
      "cell_type": "markdown",
      "source": [
        "# Этап 3:\n",
        "- обучение \"в лоб\", стандартные параметры, без обработки inf и тд\n",
        "- LinearRegression / Ridge / Lasso\n",
        "- Градиентный спуск: Batch / Mini-batch / SGD (без штрафа)\n",
        "- Регуляризация через ГД: L2 / L1 (лог-сетка α)\n",
        "- Huber (робастная потеря) — короткая δ-сетка\n",
        "- Вывод результатов"
      ],
      "metadata": {
        "id": "ZROGVTe6jmUI"
      }
    },
    {
      "cell_type": "markdown",
      "source": [
        "Заново загружаем данные, предобработка, делим на выборки, подготовка вспомогательных функций"
      ],
      "metadata": {
        "id": "OOjKYS1Z81BE"
      }
    },
    {
      "cell_type": "code",
      "source": [
        "df = pd.read_csv('cian_processed_data-2.csv')\n",
        "\n",
        "def preprocess(df: pd.DataFrame):\n",
        "    df = df.copy()\n",
        "\n",
        "    y = df['price_log'].astype(float)\n",
        "    if 'price' in df.columns:\n",
        "        df.drop(columns=['price'], inplace=True)\n",
        "\n",
        "    if 'floor' in df.columns:\n",
        "        f = df['floor']\n",
        "        df['floor_lt5']  = (f < 5).astype('uint8')\n",
        "        df['floor_5_10'] = ((f >= 5) & (f <= 10)).astype('uint8')\n",
        "        df['floor_gt10'] = (f > 10).astype('uint8')\n",
        "        df.drop(columns=['floor'], inplace=True)\n",
        "\n",
        "    bool_cols = df.select_dtypes(include='bool').columns\n",
        "    df[bool_cols] = df[bool_cols].astype('uint8')\n",
        "\n",
        "    assert not df.isna().any().any(), \"Обнаружены пропуски\"\n",
        "\n",
        "    X = df.drop(columns=['price_log'])\n",
        "    return X, y\n",
        "\n",
        "X, y = preprocess(df)\n",
        "#print(X.dtypes.value_counts())\n",
        "#print(X[X['city_Махачкала'] == 1].head()) # проверка\n",
        "\n",
        "\n",
        "# 80 / 10 / 10\n",
        "X_train, X_temp, y_train, y_temp = train_test_split(X, y, test_size=0.2, random_state=42)\n",
        "X_val, X_test, y_val, y_test = train_test_split(X_temp, y_temp, test_size=0.5, random_state=42)\n",
        "\n",
        "print(X_train.shape, X_val.shape, X_test.shape)\n",
        "print(X_train_2.shape, X_val_2.shape, X_test_2.shape)\n",
        "\n",
        "X_train, X_val, X_test = X_train_2, X_val_2, X_test_2 # на модели 2\n"
      ],
      "metadata": {
        "colab": {
          "base_uri": "https://localhost:8080/"
        },
        "id": "uoeA_fBajtrP",
        "outputId": "8e8c35dd-ed29-4a18-d8bc-dbaebe98decb"
      },
      "execution_count": 37,
      "outputs": [
        {
          "output_type": "stream",
          "name": "stdout",
          "text": [
            "(5687, 42) (711, 42) (711, 42)\n",
            "(5687, 38) (711, 38) (711, 38)\n"
          ]
        }
      ]
    },
    {
      "cell_type": "code",
      "source": [
        "num_cols = [c for c in X_train.columns if X_train[c].dtype != 'uint8']\n",
        "bin_cols = [c for c in X_train.columns if X_train[c].dtype == 'uint8']\n",
        "\n",
        "ct = ColumnTransformer([\n",
        "    ('num', StandardScaler(), num_cols),\n",
        "    ('bin', 'passthrough', bin_cols)\n",
        "])\n",
        "\n",
        "Xtr = ct.fit_transform(X_train)\n",
        "Xvl = ct.transform(X_val)\n",
        "ytr = y_train.values\n",
        "yvl = y_val.values\n",
        "\n",
        "def metrics(y_true, y_pred):\n",
        "    rmse = np.sqrt(mean_squared_error(y_true, y_pred))\n",
        "    mae  = mean_absolute_error(y_true, y_pred)\n",
        "    r2   = r2_score(y_true, y_pred)\n",
        "    med  = median_absolute_error(y_true, y_pred)\n",
        "    evs  = explained_variance_score(y_true, y_pred)\n",
        "    mape = np.mean(np.abs((np.expm1(y_pred)-np.expm1(y_true))/np.expm1(y_true))) * 100\n",
        "    mxer = np.max(np.abs(y_true - y_pred))\n",
        "    return dict(RMSE=rmse, MAE=mae, R2=r2, MedianAE=med, ExplainedVar=evs, MAPE=mape, MaxError=mxer)\n",
        "\n",
        "def row(name, y_tr_pred, y_vl_pred):\n",
        "    mtr, mvl = metrics(ytr, y_tr_pred), metrics(yvl, y_vl_pred)\n",
        "    return dict(Model=name, **{f'Train_{k}':v for k,v in mtr.items()}, **{f'Val_{k}':v for k,v in mvl.items()})"
      ],
      "metadata": {
        "id": "z28PYYu9ZSnO"
      },
      "execution_count": 38,
      "outputs": []
    },
    {
      "cell_type": "markdown",
      "source": [
        "Бенчмарки: LinearRegression / Ridge / Lasso"
      ],
      "metadata": {
        "id": "gFRqKu54kMtk"
      }
    },
    {
      "cell_type": "code",
      "source": [
        "results = []\n",
        "\n",
        "# LinearRegression\n",
        "lr = LinearRegression().fit(Xtr, ytr)\n",
        "results.append(row('LinearRegression', lr.predict(Xtr), lr.predict(Xvl)))\n",
        "\n",
        "# Ridge/Lasso (сетка альф)\n",
        "alphas = np.logspace(-4, 4, 9)\n",
        "\n",
        "best_ridge = None\n",
        "for a in alphas:\n",
        "    mdl = Ridge(alpha=a, random_state=42).fit(Xtr, ytr)\n",
        "    if not best_ridge or metrics(yvl, mdl.predict(Xvl))['RMSE'] < metrics(yvl, best_ridge.predict(Xvl))['RMSE']:\n",
        "        best_ridge = mdl\n",
        "results.append(row(f'Ridge[best α]', best_ridge.predict(Xtr), best_ridge.predict(Xvl)))\n",
        "\n",
        "best_lasso = None\n",
        "for a in alphas:\n",
        "    mdl = Lasso(alpha=a, random_state=42, max_iter=10000).fit(Xtr, ytr)\n",
        "    if not best_lasso or metrics(yvl, mdl.predict(Xvl))['RMSE'] < metrics(yvl, best_lasso.predict(Xvl))['RMSE']:\n",
        "        best_lasso = mdl\n",
        "results.append(row(f'Lasso[best α]', best_lasso.predict(Xtr), best_lasso.predict(Xvl)))"
      ],
      "metadata": {
        "id": "cZphfWlPkFzo"
      },
      "execution_count": 39,
      "outputs": []
    },
    {
      "cell_type": "markdown",
      "source": [
        "Градиентный спуск: Batch / Mini-batch / SGD (без штрафа)"
      ],
      "metadata": {
        "id": "-pHC8vhQkNqQ"
      }
    },
    {
      "cell_type": "code",
      "source": [
        "def train_sgd(X, y, Xv, epochs=200, batch_size=1, lr='constant', eta0=1e-2, penalty=None, loss='squared_error', epsilon=0.1, random_state=42):\n",
        "    rng = np.random.RandomState(random_state)\n",
        "    n = X.shape[0]\n",
        "    sgd = SGDRegressor(loss=loss, penalty=penalty, learning_rate=lr, eta0=eta0,\n",
        "                       max_iter=1, tol=None, shuffle=False, random_state=random_state, epsilon=epsilon, fit_intercept=True)\n",
        "\n",
        "    sgd.partial_fit(X[:1], y[:1])\n",
        "    for _ in range(epochs):\n",
        "        idx = rng.permutation(n)\n",
        "        for i in range(0, n, batch_size):\n",
        "            j = idx[i:i+batch_size]\n",
        "            sgd.partial_fit(X[j], y[j])\n",
        "    return sgd, sgd.predict(X), sgd.predict(Xv)\n",
        "\n",
        "# Batch GD (батч = весь train)\n",
        "for lr in ['constant', 'invscaling', 'adaptive']:\n",
        "    mdl, ytrp, yvlp = train_sgd(Xtr, ytr, Xvl, epochs=200, batch_size=Xtr.shape[0], lr=lr, eta0=1e-2, penalty=None)\n",
        "    results.append(row(f'BatchGD[{lr}]', ytrp, yvlp))\n",
        "\n",
        "# Mini-batch (32, 128) + constant lr\n",
        "for bs in [32, 128]:\n",
        "    mdl, ytrp, yvlp = train_sgd(Xtr, ytr, Xvl, epochs=200, batch_size=bs, lr='constant', eta0=1e-2, penalty=None)\n",
        "    results.append(row(f'MiniBatchGD[{bs}]', ytrp, yvlp))\n",
        "\n",
        "# SGD (батч=1) + разные lr-политики\n",
        "for lr in ['constant', 'invscaling', 'adaptive']:\n",
        "    mdl, ytrp, yvlp = train_sgd(Xtr, ytr, Xvl, epochs=200, batch_size=1, lr=lr, eta0=1e-2, penalty=None)\n",
        "    results.append(row(f'SGD[{lr}]', ytrp, yvlp))\n"
      ],
      "metadata": {
        "id": "mXTmX7oIkHkI"
      },
      "execution_count": 40,
      "outputs": []
    },
    {
      "cell_type": "markdown",
      "source": [
        "Регуляризация через ГД: L2 / L1 (лог-сетка α)"
      ],
      "metadata": {
        "id": "YAFPyTmlkbwf"
      }
    },
    {
      "cell_type": "code",
      "source": [
        "def best_sgd_penalty(name, penalty, alphas=alphas, bs=32, lr='constant', eta0=1e-2):\n",
        "    best = None\n",
        "    best_pred = None\n",
        "    for a in alphas:\n",
        "        mdl, ytrp, yvlp = train_sgd(Xtr, ytr, Xvl, epochs=200, batch_size=bs, lr=lr, eta0=eta0, penalty=penalty)\n",
        "\n",
        "        mdl.alpha = a\n",
        "\n",
        "        mdl, ytrp, yvlp = train_sgd(Xtr, ytr, Xvl, epochs=1, batch_size=bs, lr=lr, eta0=eta0, penalty=penalty)\n",
        "        if not best or metrics(yvl, yvlp)['RMSE'] < metrics(yvl, best_pred)['RMSE']:\n",
        "            best, best_pred = (mdl, ytrp, yvlp), yvlp\n",
        "    return best\n",
        "\n",
        "# L2 (Ridge) через SGD\n",
        "mdl, ytrp, yvlp = best_sgd_penalty('SGD-L2', 'l2')\n",
        "results.append(row('SGD-L2[best α]', ytrp, yvlp))\n",
        "\n",
        "# L1 (Lasso) через SGD\n",
        "mdl, ytrp, yvlp = best_sgd_penalty('SGD-L1', 'l1')\n",
        "results.append(row('SGD-L1[best α]', ytrp, yvlp))\n"
      ],
      "metadata": {
        "id": "UZ4UIjMkkPWW"
      },
      "execution_count": 41,
      "outputs": []
    },
    {
      "cell_type": "markdown",
      "source": [
        "Huber"
      ],
      "metadata": {
        "id": "GnSbJ68akhQh"
      }
    },
    {
      "cell_type": "code",
      "source": [
        "# Вариант 1: HuberRegressor\n",
        "best_huber = None\n",
        "for eps in [1.0, 1.35, 2.0]:\n",
        "    hub = HuberRegressor(epsilon=eps, alpha=0.0, fit_intercept=True, max_iter=200).fit(Xtr, ytr)\n",
        "    if not best_huber or metrics(yvl, hub.predict(Xvl))['RMSE'] < metrics(yvl, best_huber.predict(Xvl))['RMSE']:\n",
        "        best_huber = hub\n",
        "results.append(row(f'HuberRegressor[best ε]', best_huber.predict(Xtr), best_huber.predict(Xvl)))\n",
        "\n",
        "# Вариант 2: SGD (loss='huber'), batch=32\n",
        "best_sgd_huber = None\n",
        "for eps in [1.0, 1.35, 2.0]:\n",
        "    mdl, ytrp, yvlp = train_sgd(Xtr, ytr, Xvl, epochs=200, batch_size=32, lr='constant', eta0=1e-2, penalty=None, loss='huber', epsilon=eps)\n",
        "    if not best_sgd_huber or metrics(yvl, yvlp)['RMSE'] < metrics(yvl, best_sgd_huber[2])['RMSE']:\n",
        "        best_sgd_huber = (mdl, ytrp, yvlp, eps)\n",
        "results.append(row(f'SGD-Huber[best ε={best_sgd_huber[3]}]', best_sgd_huber[1], best_sgd_huber[2]))"
      ],
      "metadata": {
        "id": "9pHD3qUFkgca"
      },
      "execution_count": 43,
      "outputs": []
    },
    {
      "cell_type": "markdown",
      "source": [
        "Сводка результатов (отсортируем по валидационному RMSE)"
      ],
      "metadata": {
        "id": "Fx0uAH1skmbl"
      }
    },
    {
      "cell_type": "code",
      "source": [
        "df_res = pd.DataFrame(results)\n",
        "cols_order = ['Model'] + [c for c in df_res.columns if c != 'Model']\n",
        "df_res = df_res[cols_order].sort_values('Val_RMSE')\n",
        "pd.set_option('display.max_rows', 200)\n",
        "print(df_res.to_string(index=False, float_format=lambda x: f'{x:.4f}'))"
      ],
      "metadata": {
        "colab": {
          "base_uri": "https://localhost:8080/"
        },
        "id": "nSXKuuWZkk9z",
        "outputId": "3c97f618-2b30-4384-da50-e34f001cbdc5"
      },
      "execution_count": 45,
      "outputs": [
        {
          "output_type": "stream",
          "name": "stdout",
          "text": [
            "                 Model       Train_RMSE       Train_MAE                     Train_R2  Train_MedianAE           Train_ExplainedVar  Train_MAPE    Train_MaxError        Val_RMSE         Val_MAE                     Val_R2    Val_MedianAE           Val_ExplainedVar  Val_MAPE     Val_MaxError\n",
            "         Lasso[best α]           0.3819          0.2668                       0.8642          0.1919                       0.8642     29.9939            3.7218          0.4147          0.2696                     0.8302          0.1901                     0.8305   57.1552           5.3164\n",
            "         Ridge[best α]           0.3820          0.2669                       0.8642          0.1921                       0.8642     29.9989            3.7217          0.4147          0.2697                     0.8302          0.1902                     0.8304   57.1594           5.3162\n",
            "      LinearRegression           0.3819          0.2669                       0.8643          0.1923                       0.8643     30.0025            3.7211          0.4148          0.2696                     0.8301          0.1906                     0.8303   57.2010           5.3171\n",
            "HuberRegressor[best ε]           0.3837          0.2626                       0.8630          0.1839                       0.8630     29.6591            3.7847          0.4163          0.2655                     0.8289          0.1809                     0.8291   58.3848           5.3719\n",
            "HuberRegressor[best ε]           0.3837          0.2626                       0.8630          0.1839                       0.8630     29.6591            3.7847          0.4163          0.2655                     0.8289          0.1809                     0.8291   58.3848           5.3719\n",
            " SGD-Huber[best ε=1.0]           0.4085          0.2938                       0.8447          0.2208                       0.8448     32.9408            3.6362          0.4329          0.2950                     0.8150          0.2241                     0.8157   58.2521           5.2553\n",
            "       SGD[invscaling]           0.4052          0.2778                       0.8472          0.1936                       0.8472     31.1391            3.7198          0.4347          0.2802                     0.8134          0.1936                     0.8135   57.3674           5.2913\n",
            "   BatchGD[invscaling]           0.4052          0.2778                       0.8472          0.1936                       0.8472     31.1391            3.7198          0.4347          0.2802                     0.8134          0.1936                     0.8135   57.3674           5.2913\n",
            "        SGD-L2[best α]        3450.9174        815.3367               -11083833.9440        468.0911               -11022145.9139         inf        68742.3315       1015.3803        634.0450              -1017789.4943        479.7990              -1001315.0396       inf        6959.0152\n",
            "        SGD-L1[best α]        3465.0114        818.6661               -11174554.2578        470.0052               -11112362.6142         inf        69023.0856       1019.5268        636.6337              -1026119.2179        481.7533              -1009510.5981       inf        6987.4409\n",
            "     BatchGD[adaptive] 37283570676.7915 7233660642.3326 -1293766557371099512832.0000 3732606070.1685 -1292531270828858540032.0000         inf 748571493251.3783 9748560753.4799 5462517502.7682 -93817090207858196480.0000 3798303125.6440 -93602027163483963392.0000       inf 76917019172.6387\n",
            "     BatchGD[constant] 37283570676.7915 7233660642.3326 -1293766557371099512832.0000 3732606070.1685 -1292531270828858540032.0000         inf 748571493251.3783 9748560753.4799 5462517502.7682 -93817090207858196480.0000 3798303125.6440 -93602027163483963392.0000       inf 76917019172.6387\n",
            "      MiniBatchGD[128] 37283570676.7915 7233660642.3326 -1293766557371099512832.0000 3732606070.1685 -1292531270828858540032.0000         inf 748571493251.3783 9748560753.4799 5462517502.7682 -93817090207858196480.0000 3798303125.6440 -93602027163483963392.0000       inf 76917019172.6387\n",
            "       MiniBatchGD[32] 37283570676.7915 7233660642.3326 -1293766557371099512832.0000 3732606070.1685 -1292531270828858540032.0000         inf 748571493251.3783 9748560753.4799 5462517502.7682 -93817090207858196480.0000 3798303125.6440 -93602027163483963392.0000       inf 76917019172.6387\n",
            "         SGD[adaptive] 37283570676.7915 7233660642.3326 -1293766557371099512832.0000 3732606070.1685 -1292531270828858540032.0000         inf 748571493251.3783 9748560753.4799 5462517502.7682 -93817090207858196480.0000 3798303125.6440 -93602027163483963392.0000       inf 76917019172.6387\n",
            "         SGD[constant] 37283570676.7915 7233660642.3326 -1293766557371099512832.0000 3732606070.1685 -1292531270828858540032.0000         inf 748571493251.3783 9748560753.4799 5462517502.7682 -93817090207858196480.0000 3798303125.6440 -93602027163483963392.0000       inf 76917019172.6387\n"
          ]
        }
      ]
    },
    {
      "cell_type": "markdown",
      "source": [
        "# Этап 4: Сравнение Ridge/Lasso, HuberRegressor, а также SGDRegressor с L2/L1/Huber с более широкими сетками\n",
        "\n"
      ],
      "metadata": {
        "id": "eZXG_yn69bfA"
      }
    },
    {
      "cell_type": "code",
      "source": [
        "num_cols = [c for c in X_train.columns if X_train[c].dtype != 'uint8']\n",
        "bin_cols = [c for c in X_train.columns if X_train[c].dtype == 'uint8']\n",
        "\n",
        "ct = ColumnTransformer([\n",
        "    ('num', StandardScaler(), num_cols),\n",
        "    ('bin', 'passthrough', bin_cols)\n",
        "])\n",
        "\n",
        "Xtr = ct.fit_transform(X_train).astype(np.float32)\n",
        "Xvl = ct.transform(X_val).astype(np.float32)\n",
        "ytr = y_train.values.astype(np.float32)\n",
        "yvl = y_val.values.astype(np.float32)"
      ],
      "metadata": {
        "id": "In60axOY9isG"
      },
      "execution_count": 46,
      "outputs": []
    },
    {
      "cell_type": "code",
      "source": [
        "def mape_from_logs_safe(y_true_log, y_pred_log, pad=1.0):\n",
        "    lo = np.percentile(y_true_log, 1) - pad\n",
        "    hi = np.percentile(y_true_log, 99) + pad\n",
        "    yt = np.expm1(np.clip(y_true_log, lo, hi))\n",
        "    yp = np.expm1(np.clip(y_pred_log, lo, hi))\n",
        "    return np.mean(np.abs((yp - yt) / np.maximum(yt, 1e-9))) * 100\n",
        "\n",
        "def metrics(y_true, y_pred):\n",
        "    rmse = np.sqrt(mean_squared_error(y_true, y_pred))\n",
        "    mae  = mean_absolute_error(y_true, y_pred)\n",
        "    r2   = r2_score(y_true, y_pred)\n",
        "    med  = median_absolute_error(y_true, y_pred)\n",
        "    evs  = explained_variance_score(y_true, y_pred)\n",
        "    mape = mape_from_logs_safe(y_true, y_pred)\n",
        "    mxer = np.max(np.abs(y_true - y_pred))\n",
        "    return dict(RMSE=rmse, MAE=mae, R2=r2, MedianAE=med, ExplainedVar=evs, MAPE=mape, MaxError=mxer)\n",
        "\n",
        "def row(name, y_tr_pred, y_vl_pred):\n",
        "    mtr, mvl = metrics(ytr, y_tr_pred), metrics(yvl, y_vl_pred)\n",
        "    return dict(Model=name, **{f'Train_{k}':v for k,v in mtr.items()}, **{f'Val_{k}':v for k,v in mvl.items()})"
      ],
      "metadata": {
        "id": "E77W5isp9k48"
      },
      "execution_count": 47,
      "outputs": []
    },
    {
      "cell_type": "code",
      "source": [
        "results = []\n",
        "alphas = np.unique(np.r_[np.logspace(-6, 3, 20), [0.0 + 1e-8]])\n",
        "\n",
        "best_ridge = None; best_lasso = None\n",
        "best_ridge_pred = None; best_lasso_pred = None\n",
        "\n",
        "for a in alphas:\n",
        "    mdl = Ridge(alpha=a, random_state=42).fit(Xtr, ytr)\n",
        "    pred_v = mdl.predict(Xvl)\n",
        "    if best_ridge is None or metrics(yvl, pred_v)['RMSE'] < metrics(yvl, best_ridge_pred)['RMSE']:\n",
        "        best_ridge, best_ridge_pred = mdl, pred_v\n",
        "\n",
        "for a in alphas:\n",
        "    mdl = Lasso(alpha=a, random_state=42, max_iter=10000).fit(Xtr, ytr)\n",
        "    pred_v = mdl.predict(Xvl)\n",
        "    if best_lasso is None or metrics(yvl, pred_v)['RMSE'] < metrics(yvl, best_lasso_pred)['RMSE']:\n",
        "        best_lasso, best_lasso_pred = mdl, pred_v\n",
        "\n",
        "results.append(row(f'Ridge[best α={best_ridge.alpha:.1e}]', best_ridge.predict(Xtr), best_ridge_pred))\n",
        "results.append(row(f'Lasso[best α={best_lasso.alpha:.1e}]', best_lasso.predict(Xtr), best_lasso_pred))\n"
      ],
      "metadata": {
        "id": "TwFeBins9md2"
      },
      "execution_count": 48,
      "outputs": []
    },
    {
      "cell_type": "code",
      "source": [
        "best_huber = None; best_huber_pred = None; best_eps = None\n",
        "for eps in [1.0, 1.2, 1.35, 1.6, 2.0, 2.5, 3.0, 5.0]:\n",
        "    hub = HuberRegressor(epsilon=eps, alpha=0.0, fit_intercept=True, max_iter=400).fit(Xtr, ytr)\n",
        "    pred_v = hub.predict(Xvl)\n",
        "    if best_huber is None or metrics(yvl, pred_v)['RMSE'] < metrics(yvl, best_huber_pred)['RMSE']:\n",
        "        best_huber, best_huber_pred, best_eps = hub, pred_v, eps\n",
        "\n",
        "results.append(row(f'HuberRegressor[best ε={best_eps}]', best_huber.predict(Xtr), best_huber_pred))\n"
      ],
      "metadata": {
        "id": "rHBMEjKV9oR_"
      },
      "execution_count": 49,
      "outputs": []
    },
    {
      "cell_type": "code",
      "source": [
        "def best_sgd_penalty(name, penalty, alphas, eta0=1e-3):\n",
        "    best = None; best_pred = None; best_a = None\n",
        "    for a in alphas:\n",
        "        sgd = SGDRegressor(loss='squared_error', penalty=penalty, alpha=a,\n",
        "                           learning_rate='adaptive', eta0=eta0,\n",
        "                           max_iter=400, tol=None, shuffle=True,\n",
        "                           random_state=42, fit_intercept=True, average=True)\n",
        "        sgd.fit(Xtr, ytr)\n",
        "        pred_v = sgd.predict(Xvl)\n",
        "        if best is None or metrics(yvl, pred_v)['RMSE'] < metrics(yvl, best_pred)['RMSE']:\n",
        "            best, best_pred, best_a = sgd, pred_v, a\n",
        "    return best, best_pred, best_a\n",
        "\n",
        "sgd_l2, sgd_l2_pred, a2 = best_sgd_penalty('SGD-L2', 'l2', alphas)\n",
        "results.append(row(f'SGD-L2[best α={a2:.1e}]', sgd_l2.predict(Xtr), sgd_l2_pred))\n",
        "\n",
        "sgd_l1, sgd_l1_pred, a1 = best_sgd_penalty('SGD-L1', 'l1', alphas)\n",
        "results.append(row(f'SGD-L1[best α={a1:.1e}]', sgd_l1.predict(Xtr), sgd_l1_pred))"
      ],
      "metadata": {
        "id": "4OORVScV9p_s"
      },
      "execution_count": 50,
      "outputs": []
    },
    {
      "cell_type": "code",
      "source": [
        "best_sgd_hub = None; best_sgd_hub_pred = None; best_eps = None\n",
        "for eps in [0.8, 1.0, 1.2, 1.35, 1.6, 2.0, 2.5, 3.0]:\n",
        "    sgd = SGDRegressor(loss='huber', epsilon=eps, penalty=None,\n",
        "                       learning_rate='adaptive', eta0=1e-3,\n",
        "                       max_iter=400, tol=None, shuffle=True,\n",
        "                       random_state=42, fit_intercept=True, average=True)\n",
        "    sgd.fit(Xtr, ytr)\n",
        "    pred_v = sgd.predict(Xvl)\n",
        "    if best_sgd_hub is None or metrics(yvl, pred_v)['RMSE'] < metrics(yvl, best_sgd_hub_pred)['RMSE']:\n",
        "        best_sgd_hub, best_sgd_hub_pred, best_eps = sgd, pred_v, eps\n",
        "\n",
        "results.append(row(f'SGD-Huber[best ε={best_eps}]', best_sgd_hub.predict(Xtr), best_sgd_hub_pred))"
      ],
      "metadata": {
        "id": "npUzc-_v9rrj"
      },
      "execution_count": 51,
      "outputs": []
    },
    {
      "cell_type": "code",
      "source": [
        "df_res = pd.DataFrame(results).sort_values('Val_RMSE')\n",
        "pd.set_option('display.max_rows', 200)\n",
        "print(df_res.to_string(index=False, float_format=lambda x: f'{x:.4f}'))"
      ],
      "metadata": {
        "colab": {
          "base_uri": "https://localhost:8080/"
        },
        "id": "eIyMtQql9tDG",
        "outputId": "ef30ea5f-645e-40dc-966c-a773bc6442d0"
      },
      "execution_count": 52,
      "outputs": [
        {
          "output_type": "stream",
          "name": "stdout",
          "text": [
            "                     Model  Train_RMSE  Train_MAE  Train_R2  Train_MedianAE  Train_ExplainedVar  Train_MAPE  Train_MaxError  Val_RMSE  Val_MAE  Val_R2  Val_MedianAE  Val_ExplainedVar  Val_MAPE  Val_MaxError\n",
            "     Lasso[best α=2.3e-04]      0.3820     0.2669    0.8642          0.1915              0.8642     28.6068          3.7223    0.4147   0.2696  0.8302        0.1906            0.8304   28.7924        5.3161\n",
            "     Ridge[best α=1.4e+00]      0.3821     0.2669    0.8641          0.1919              0.8641     28.6146          3.7219    0.4147   0.2697  0.8302        0.1905            0.8304   28.8053        5.3158\n",
            "HuberRegressor[best ε=5.0]      0.3819     0.2665    0.8642          0.1910              0.8642     28.6052          3.7329    0.4150   0.2694  0.8300        0.1887            0.8302   28.8113        5.3247\n",
            "    SGD-L1[best α=1.0e-06]      0.3904     0.2705    0.8582          0.1912              0.8582     28.7807          3.6991    0.4228   0.2744  0.8235        0.1927            0.8236   29.0970        5.2888\n",
            "    SGD-L2[best α=1.0e-08]      0.3903     0.2709    0.8582          0.1924              0.8583     28.7596          3.6876    0.4228   0.2749  0.8235        0.1927            0.8235   29.0854        5.2806\n",
            "     SGD-Huber[best ε=3.0]      0.3908     0.2712    0.8578          0.1939              0.8580     28.6467          3.6831    0.4234   0.2754  0.8231        0.1947            0.8231   28.9823        5.2769\n"
          ]
        }
      ]
    },
    {
      "cell_type": "markdown",
      "source": [
        "# Этап 5: Оптимизируем и добавляем новые методы"
      ],
      "metadata": {
        "id": "hCOsZTS7Ib0k"
      }
    },
    {
      "cell_type": "code",
      "source": [
        "def regression_report(y_true, y_pred):\n",
        "    rmse = float(np.sqrt(mean_squared_error(y_true, y_pred)))\n",
        "    mae  = float(mean_absolute_error(y_true, y_pred))\n",
        "    med  = float(median_absolute_error(y_true, y_pred))\n",
        "    r2   = float(r2_score(y_true, y_pred))\n",
        "    evs  = float(explained_variance_score(y_true, y_pred))\n",
        "    return {\"RMSE\": rmse, \"MAE\": mae, \"MedAE\": med, \"R2\": r2, \"EVS\": evs}"
      ],
      "metadata": {
        "id": "BdcAo3oGIkJs"
      },
      "execution_count": 53,
      "outputs": []
    },
    {
      "cell_type": "code",
      "source": [
        "df = pd.read_csv('cian_processed_data-2.csv')\n",
        "\n",
        "TARGET = \"price_log\"\n",
        "\n",
        "X = df.drop(columns=[TARGET]).copy()\n",
        "y = df[TARGET].copy()\n",
        "\n",
        "num_cols = X.select_dtypes(include=[\"int64\", \"float64\", \"int32\", \"float32\"]).columns.tolist()\n",
        "cat_cols = X.select_dtypes(include=[\"object\", \"category\", \"bool\"]).columns.tolist()\n",
        "\n",
        "X_train, X_test, y_train, y_test = train_test_split(X, y, test_size=0.10, random_state=SEED)"
      ],
      "metadata": {
        "id": "sFewDE_QIlpQ"
      },
      "execution_count": 54,
      "outputs": []
    },
    {
      "cell_type": "code",
      "source": [
        "numeric_transformer = Pipeline(steps=[\n",
        "    (\"scaler\", StandardScaler())\n",
        "])\n",
        "\n",
        "categorical_transformer = Pipeline(steps=[\n",
        "        (\"ohe\", OneHotEncoder(drop=\"first\", handle_unknown=\"ignore\", sparse_output=False))])\n",
        "preprocessor = ColumnTransformer(\n",
        "    transformers=[\n",
        "        (\"num\", numeric_transformer, num_cols),\n",
        "        (\"cat\", categorical_transformer, cat_cols),\n",
        "    ],\n",
        "    remainder=\"drop\"\n",
        ")"
      ],
      "metadata": {
        "id": "gG48uY9VJHwh"
      },
      "execution_count": 55,
      "outputs": []
    },
    {
      "cell_type": "code",
      "source": [
        "cv = KFold(n_splits=5, shuffle=True, random_state=SEED)\n",
        "scoring = \"neg_root_mean_squared_error\"  # оптимизируем RMSE\n",
        "\n",
        "models = {\n",
        "    \"OLS\": Pipeline([\n",
        "        (\"prep\", preprocessor),\n",
        "        (\"model\", LinearRegression())\n",
        "    ]),\n",
        "    \"Ridge\": GridSearchCV(\n",
        "        Pipeline([(\"prep\", preprocessor), (\"model\", Ridge())]),\n",
        "        param_grid={\"model__alpha\": np.logspace(-4, 4, 25)},\n",
        "        cv=cv, scoring=scoring, n_jobs=-1\n",
        "    ),\n",
        "    \"Lasso\": GridSearchCV(\n",
        "        Pipeline([(\"prep\", preprocessor), (\"model\", Lasso(random_state=SEED, max_iter=10000))]),\n",
        "        param_grid={\"model__alpha\": np.logspace(-4, 1, 25)},\n",
        "        cv=cv, scoring=scoring, n_jobs=-1\n",
        "    ),\n",
        "    \"ElasticNet\": GridSearchCV(\n",
        "        Pipeline([(\"prep\", preprocessor), (\"model\", ElasticNet(random_state=SEED, max_iter=10000))]),\n",
        "        param_grid={\n",
        "            \"model__alpha\": np.logspace(-4, 1, 20),\n",
        "            \"model__l1_ratio\": np.linspace(0.05, 0.95, 10)\n",
        "        },\n",
        "        cv=cv, scoring=scoring, n_jobs=-1\n",
        "    ),\n",
        "}\n",
        "\n",
        "\n",
        "results = []\n",
        "best_pipes = {}\n",
        "\n",
        "for name, estimator in models.items():\n",
        "    print(f\"\\n=== Тренируем {name} ===\")\n",
        "    estimator.fit(X_train, y_train)\n",
        "\n",
        "    best_est = estimator.best_estimator_ if isinstance(estimator, GridSearchCV) else estimator\n",
        "    best_pipes[name] = best_est\n",
        "\n",
        "\n",
        "    y_pred_test = best_est.predict(X_test)\n",
        "    metrics = regression_report(y_test, y_pred_test)\n",
        "\n",
        "\n",
        "    if isinstance(estimator, GridSearchCV):\n",
        "        metrics[\"BestParams\"] = estimator.best_params_\n",
        "        metrics[\"CV_RMSE\"] = -estimator.best_score_\n",
        "    else:\n",
        "        metrics[\"BestParams\"] = {}\n",
        "        metrics[\"CV_RMSE\"] = np.nan\n",
        "\n",
        "    metrics[\"Model\"] = name\n",
        "    results.append(metrics)\n",
        "\n",
        "\n",
        "summary = pd.DataFrame(results).set_index(\"Model\").sort_values(\"RMSE\")\n",
        "summary"
      ],
      "metadata": {
        "colab": {
          "base_uri": "https://localhost:8080/",
          "height": 345
        },
        "id": "QmeWk8TXJMM2",
        "outputId": "967d94c5-2a66-4596-850d-1132e87f06f0"
      },
      "execution_count": 56,
      "outputs": [
        {
          "output_type": "stream",
          "name": "stdout",
          "text": [
            "\n",
            "=== Тренируем OLS ===\n",
            "\n",
            "=== Тренируем Ridge ===\n",
            "\n",
            "=== Тренируем Lasso ===\n",
            "\n",
            "=== Тренируем ElasticNet ===\n"
          ]
        },
        {
          "output_type": "execute_result",
          "data": {
            "text/plain": [
              "                RMSE       MAE     MedAE        R2       EVS  \\\n",
              "Model                                                          \n",
              "ElasticNet  0.396871  0.247050  0.176270  0.843080  0.843379   \n",
              "Ridge       0.396879  0.246905  0.177227  0.843074  0.843373   \n",
              "OLS         0.396895  0.246902  0.177505  0.843061  0.843360   \n",
              "Lasso       0.396906  0.247215  0.175905  0.843053  0.843351   \n",
              "\n",
              "                                                   BestParams   CV_RMSE  \n",
              "Model                                                                    \n",
              "ElasticNet  {'model__alpha': 0.0001, 'model__l1_ratio': 0.05}  0.382146  \n",
              "Ridge                  {'model__alpha': 0.046415888336127774}  0.382073  \n",
              "OLS                                                        {}       NaN  \n",
              "Lasso                                {'model__alpha': 0.0001}  0.382316  "
            ],
            "text/html": [
              "\n",
              "  <div id=\"df-89312c86-a004-41e2-9065-ed1b72671e68\" class=\"colab-df-container\">\n",
              "    <div>\n",
              "<style scoped>\n",
              "    .dataframe tbody tr th:only-of-type {\n",
              "        vertical-align: middle;\n",
              "    }\n",
              "\n",
              "    .dataframe tbody tr th {\n",
              "        vertical-align: top;\n",
              "    }\n",
              "\n",
              "    .dataframe thead th {\n",
              "        text-align: right;\n",
              "    }\n",
              "</style>\n",
              "<table border=\"1\" class=\"dataframe\">\n",
              "  <thead>\n",
              "    <tr style=\"text-align: right;\">\n",
              "      <th></th>\n",
              "      <th>RMSE</th>\n",
              "      <th>MAE</th>\n",
              "      <th>MedAE</th>\n",
              "      <th>R2</th>\n",
              "      <th>EVS</th>\n",
              "      <th>BestParams</th>\n",
              "      <th>CV_RMSE</th>\n",
              "    </tr>\n",
              "    <tr>\n",
              "      <th>Model</th>\n",
              "      <th></th>\n",
              "      <th></th>\n",
              "      <th></th>\n",
              "      <th></th>\n",
              "      <th></th>\n",
              "      <th></th>\n",
              "      <th></th>\n",
              "    </tr>\n",
              "  </thead>\n",
              "  <tbody>\n",
              "    <tr>\n",
              "      <th>ElasticNet</th>\n",
              "      <td>0.396871</td>\n",
              "      <td>0.247050</td>\n",
              "      <td>0.176270</td>\n",
              "      <td>0.843080</td>\n",
              "      <td>0.843379</td>\n",
              "      <td>{'model__alpha': 0.0001, 'model__l1_ratio': 0.05}</td>\n",
              "      <td>0.382146</td>\n",
              "    </tr>\n",
              "    <tr>\n",
              "      <th>Ridge</th>\n",
              "      <td>0.396879</td>\n",
              "      <td>0.246905</td>\n",
              "      <td>0.177227</td>\n",
              "      <td>0.843074</td>\n",
              "      <td>0.843373</td>\n",
              "      <td>{'model__alpha': 0.046415888336127774}</td>\n",
              "      <td>0.382073</td>\n",
              "    </tr>\n",
              "    <tr>\n",
              "      <th>OLS</th>\n",
              "      <td>0.396895</td>\n",
              "      <td>0.246902</td>\n",
              "      <td>0.177505</td>\n",
              "      <td>0.843061</td>\n",
              "      <td>0.843360</td>\n",
              "      <td>{}</td>\n",
              "      <td>NaN</td>\n",
              "    </tr>\n",
              "    <tr>\n",
              "      <th>Lasso</th>\n",
              "      <td>0.396906</td>\n",
              "      <td>0.247215</td>\n",
              "      <td>0.175905</td>\n",
              "      <td>0.843053</td>\n",
              "      <td>0.843351</td>\n",
              "      <td>{'model__alpha': 0.0001}</td>\n",
              "      <td>0.382316</td>\n",
              "    </tr>\n",
              "  </tbody>\n",
              "</table>\n",
              "</div>\n",
              "    <div class=\"colab-df-buttons\">\n",
              "\n",
              "  <div class=\"colab-df-container\">\n",
              "    <button class=\"colab-df-convert\" onclick=\"convertToInteractive('df-89312c86-a004-41e2-9065-ed1b72671e68')\"\n",
              "            title=\"Convert this dataframe to an interactive table.\"\n",
              "            style=\"display:none;\">\n",
              "\n",
              "  <svg xmlns=\"http://www.w3.org/2000/svg\" height=\"24px\" viewBox=\"0 -960 960 960\">\n",
              "    <path d=\"M120-120v-720h720v720H120Zm60-500h600v-160H180v160Zm220 220h160v-160H400v160Zm0 220h160v-160H400v160ZM180-400h160v-160H180v160Zm440 0h160v-160H620v160ZM180-180h160v-160H180v160Zm440 0h160v-160H620v160Z\"/>\n",
              "  </svg>\n",
              "    </button>\n",
              "\n",
              "  <style>\n",
              "    .colab-df-container {\n",
              "      display:flex;\n",
              "      gap: 12px;\n",
              "    }\n",
              "\n",
              "    .colab-df-convert {\n",
              "      background-color: #E8F0FE;\n",
              "      border: none;\n",
              "      border-radius: 50%;\n",
              "      cursor: pointer;\n",
              "      display: none;\n",
              "      fill: #1967D2;\n",
              "      height: 32px;\n",
              "      padding: 0 0 0 0;\n",
              "      width: 32px;\n",
              "    }\n",
              "\n",
              "    .colab-df-convert:hover {\n",
              "      background-color: #E2EBFA;\n",
              "      box-shadow: 0px 1px 2px rgba(60, 64, 67, 0.3), 0px 1px 3px 1px rgba(60, 64, 67, 0.15);\n",
              "      fill: #174EA6;\n",
              "    }\n",
              "\n",
              "    .colab-df-buttons div {\n",
              "      margin-bottom: 4px;\n",
              "    }\n",
              "\n",
              "    [theme=dark] .colab-df-convert {\n",
              "      background-color: #3B4455;\n",
              "      fill: #D2E3FC;\n",
              "    }\n",
              "\n",
              "    [theme=dark] .colab-df-convert:hover {\n",
              "      background-color: #434B5C;\n",
              "      box-shadow: 0px 1px 3px 1px rgba(0, 0, 0, 0.15);\n",
              "      filter: drop-shadow(0px 1px 2px rgba(0, 0, 0, 0.3));\n",
              "      fill: #FFFFFF;\n",
              "    }\n",
              "  </style>\n",
              "\n",
              "    <script>\n",
              "      const buttonEl =\n",
              "        document.querySelector('#df-89312c86-a004-41e2-9065-ed1b72671e68 button.colab-df-convert');\n",
              "      buttonEl.style.display =\n",
              "        google.colab.kernel.accessAllowed ? 'block' : 'none';\n",
              "\n",
              "      async function convertToInteractive(key) {\n",
              "        const element = document.querySelector('#df-89312c86-a004-41e2-9065-ed1b72671e68');\n",
              "        const dataTable =\n",
              "          await google.colab.kernel.invokeFunction('convertToInteractive',\n",
              "                                                    [key], {});\n",
              "        if (!dataTable) return;\n",
              "\n",
              "        const docLinkHtml = 'Like what you see? Visit the ' +\n",
              "          '<a target=\"_blank\" href=https://colab.research.google.com/notebooks/data_table.ipynb>data table notebook</a>'\n",
              "          + ' to learn more about interactive tables.';\n",
              "        element.innerHTML = '';\n",
              "        dataTable['output_type'] = 'display_data';\n",
              "        await google.colab.output.renderOutput(dataTable, element);\n",
              "        const docLink = document.createElement('div');\n",
              "        docLink.innerHTML = docLinkHtml;\n",
              "        element.appendChild(docLink);\n",
              "      }\n",
              "    </script>\n",
              "  </div>\n",
              "\n",
              "\n",
              "    <div id=\"df-3923c31e-0caa-41af-a078-336eff633412\">\n",
              "      <button class=\"colab-df-quickchart\" onclick=\"quickchart('df-3923c31e-0caa-41af-a078-336eff633412')\"\n",
              "                title=\"Suggest charts\"\n",
              "                style=\"display:none;\">\n",
              "\n",
              "<svg xmlns=\"http://www.w3.org/2000/svg\" height=\"24px\"viewBox=\"0 0 24 24\"\n",
              "     width=\"24px\">\n",
              "    <g>\n",
              "        <path d=\"M19 3H5c-1.1 0-2 .9-2 2v14c0 1.1.9 2 2 2h14c1.1 0 2-.9 2-2V5c0-1.1-.9-2-2-2zM9 17H7v-7h2v7zm4 0h-2V7h2v10zm4 0h-2v-4h2v4z\"/>\n",
              "    </g>\n",
              "</svg>\n",
              "      </button>\n",
              "\n",
              "<style>\n",
              "  .colab-df-quickchart {\n",
              "      --bg-color: #E8F0FE;\n",
              "      --fill-color: #1967D2;\n",
              "      --hover-bg-color: #E2EBFA;\n",
              "      --hover-fill-color: #174EA6;\n",
              "      --disabled-fill-color: #AAA;\n",
              "      --disabled-bg-color: #DDD;\n",
              "  }\n",
              "\n",
              "  [theme=dark] .colab-df-quickchart {\n",
              "      --bg-color: #3B4455;\n",
              "      --fill-color: #D2E3FC;\n",
              "      --hover-bg-color: #434B5C;\n",
              "      --hover-fill-color: #FFFFFF;\n",
              "      --disabled-bg-color: #3B4455;\n",
              "      --disabled-fill-color: #666;\n",
              "  }\n",
              "\n",
              "  .colab-df-quickchart {\n",
              "    background-color: var(--bg-color);\n",
              "    border: none;\n",
              "    border-radius: 50%;\n",
              "    cursor: pointer;\n",
              "    display: none;\n",
              "    fill: var(--fill-color);\n",
              "    height: 32px;\n",
              "    padding: 0;\n",
              "    width: 32px;\n",
              "  }\n",
              "\n",
              "  .colab-df-quickchart:hover {\n",
              "    background-color: var(--hover-bg-color);\n",
              "    box-shadow: 0 1px 2px rgba(60, 64, 67, 0.3), 0 1px 3px 1px rgba(60, 64, 67, 0.15);\n",
              "    fill: var(--button-hover-fill-color);\n",
              "  }\n",
              "\n",
              "  .colab-df-quickchart-complete:disabled,\n",
              "  .colab-df-quickchart-complete:disabled:hover {\n",
              "    background-color: var(--disabled-bg-color);\n",
              "    fill: var(--disabled-fill-color);\n",
              "    box-shadow: none;\n",
              "  }\n",
              "\n",
              "  .colab-df-spinner {\n",
              "    border: 2px solid var(--fill-color);\n",
              "    border-color: transparent;\n",
              "    border-bottom-color: var(--fill-color);\n",
              "    animation:\n",
              "      spin 1s steps(1) infinite;\n",
              "  }\n",
              "\n",
              "  @keyframes spin {\n",
              "    0% {\n",
              "      border-color: transparent;\n",
              "      border-bottom-color: var(--fill-color);\n",
              "      border-left-color: var(--fill-color);\n",
              "    }\n",
              "    20% {\n",
              "      border-color: transparent;\n",
              "      border-left-color: var(--fill-color);\n",
              "      border-top-color: var(--fill-color);\n",
              "    }\n",
              "    30% {\n",
              "      border-color: transparent;\n",
              "      border-left-color: var(--fill-color);\n",
              "      border-top-color: var(--fill-color);\n",
              "      border-right-color: var(--fill-color);\n",
              "    }\n",
              "    40% {\n",
              "      border-color: transparent;\n",
              "      border-right-color: var(--fill-color);\n",
              "      border-top-color: var(--fill-color);\n",
              "    }\n",
              "    60% {\n",
              "      border-color: transparent;\n",
              "      border-right-color: var(--fill-color);\n",
              "    }\n",
              "    80% {\n",
              "      border-color: transparent;\n",
              "      border-right-color: var(--fill-color);\n",
              "      border-bottom-color: var(--fill-color);\n",
              "    }\n",
              "    90% {\n",
              "      border-color: transparent;\n",
              "      border-bottom-color: var(--fill-color);\n",
              "    }\n",
              "  }\n",
              "</style>\n",
              "\n",
              "      <script>\n",
              "        async function quickchart(key) {\n",
              "          const quickchartButtonEl =\n",
              "            document.querySelector('#' + key + ' button');\n",
              "          quickchartButtonEl.disabled = true;  // To prevent multiple clicks.\n",
              "          quickchartButtonEl.classList.add('colab-df-spinner');\n",
              "          try {\n",
              "            const charts = await google.colab.kernel.invokeFunction(\n",
              "                'suggestCharts', [key], {});\n",
              "          } catch (error) {\n",
              "            console.error('Error during call to suggestCharts:', error);\n",
              "          }\n",
              "          quickchartButtonEl.classList.remove('colab-df-spinner');\n",
              "          quickchartButtonEl.classList.add('colab-df-quickchart-complete');\n",
              "        }\n",
              "        (() => {\n",
              "          let quickchartButtonEl =\n",
              "            document.querySelector('#df-3923c31e-0caa-41af-a078-336eff633412 button');\n",
              "          quickchartButtonEl.style.display =\n",
              "            google.colab.kernel.accessAllowed ? 'block' : 'none';\n",
              "        })();\n",
              "      </script>\n",
              "    </div>\n",
              "    </div>\n",
              "  </div>\n"
            ],
            "application/vnd.google.colaboratory.intrinsic+json": {
              "type": "dataframe",
              "variable_name": "summary",
              "summary": "{\n  \"name\": \"summary\",\n  \"rows\": 4,\n  \"fields\": [\n    {\n      \"column\": \"Model\",\n      \"properties\": {\n        \"dtype\": \"string\",\n        \"num_unique_values\": 4,\n        \"samples\": [\n          \"Ridge\",\n          \"Lasso\",\n          \"ElasticNet\"\n        ],\n        \"semantic_type\": \"\",\n        \"description\": \"\"\n      }\n    },\n    {\n      \"column\": \"RMSE\",\n      \"properties\": {\n        \"dtype\": \"number\",\n        \"std\": 1.5521817931326564e-05,\n        \"min\": 0.3968713835604987,\n        \"max\": 0.39690564179829313,\n        \"num_unique_values\": 4,\n        \"samples\": [\n          0.3968789346798416,\n          0.39690564179829313,\n          0.3968713835604987\n        ],\n        \"semantic_type\": \"\",\n        \"description\": \"\"\n      }\n    },\n    {\n      \"column\": \"MAE\",\n      \"properties\": {\n        \"dtype\": \"number\",\n        \"std\": 0.00014814016609455003,\n        \"min\": 0.24690191366927197,\n        \"max\": 0.2472145663268006,\n        \"num_unique_values\": 4,\n        \"samples\": [\n          0.24690517835936077,\n          0.2472145663268006,\n          0.24704952165788457\n        ],\n        \"semantic_type\": \"\",\n        \"description\": \"\"\n      }\n    },\n    {\n      \"column\": \"MedAE\",\n      \"properties\": {\n        \"dtype\": \"number\",\n        \"std\": 0.0007612461186129964,\n        \"min\": 0.17590512170737682,\n        \"max\": 0.17750465782156688,\n        \"num_unique_values\": 4,\n        \"samples\": [\n          0.17722652386834525,\n          0.17590512170737682,\n          0.17627013255697754\n        ],\n        \"semantic_type\": \"\",\n        \"description\": \"\"\n      }\n    },\n    {\n      \"column\": \"R2\",\n      \"properties\": {\n        \"dtype\": \"number\",\n        \"std\": 1.2274922117987165e-05,\n        \"min\": 0.8430532864904589,\n        \"max\": 0.8430803785003731,\n        \"num_unique_values\": 4,\n        \"samples\": [\n          0.8430744071448623,\n          0.8430532864904589,\n          0.8430803785003731\n        ],\n        \"semantic_type\": \"\",\n        \"description\": \"\"\n      }\n    },\n    {\n      \"column\": \"EVS\",\n      \"properties\": {\n        \"dtype\": \"number\",\n        \"std\": 1.2612114071573058e-05,\n        \"min\": 0.8433506179033404,\n        \"max\": 0.8433786161461883,\n        \"num_unique_values\": 4,\n        \"samples\": [\n          0.8433727110249647,\n          0.8433506179033404,\n          0.8433786161461883\n        ],\n        \"semantic_type\": \"\",\n        \"description\": \"\"\n      }\n    },\n    {\n      \"column\": \"BestParams\",\n      \"properties\": {\n        \"dtype\": \"object\",\n        \"semantic_type\": \"\",\n        \"description\": \"\"\n      }\n    },\n    {\n      \"column\": \"CV_RMSE\",\n      \"properties\": {\n        \"dtype\": \"number\",\n        \"std\": 0.00012499111020546197,\n        \"min\": 0.38207251160620387,\n        \"max\": 0.38231613833403333,\n        \"num_unique_values\": 3,\n        \"samples\": [\n          0.3821458188261107,\n          0.38207251160620387,\n          0.38231613833403333\n        ],\n        \"semantic_type\": \"\",\n        \"description\": \"\"\n      }\n    }\n  ]\n}"
            }
          },
          "metadata": {},
          "execution_count": 56
        }
      ]
    },
    {
      "cell_type": "code",
      "source": [
        "import matplotlib.pyplot as plt\n",
        "plt.figure(figsize=(5,4))\n",
        "\n",
        "best_model_name = summary.index[0]\n",
        "pipe = best_pipes[best_model_name]\n",
        "y_hat = pipe.predict(X_test)\n",
        "resid = y_test - y_hat\n",
        "\n",
        "plt.scatter(y_hat, resid, alpha=0.6)\n",
        "plt.axhline(0, ls=\"--\")\n",
        "plt.xlabel(\"Fitted values (test)\")\n",
        "plt.ylabel(\"Residuals (test)\")\n",
        "plt.title(f\"Residuals vs Fitted — {best_model_name}\")\n",
        "plt.show()"
      ],
      "metadata": {
        "colab": {
          "base_uri": "https://localhost:8080/",
          "height": 410
        },
        "id": "VOIvX6m3Jfdt",
        "outputId": "4e5c6a0c-8007-49b8-b18e-5445c1f8cbd7"
      },
      "execution_count": 57,
      "outputs": [
        {
          "output_type": "display_data",
          "data": {
            "text/plain": [
              "<Figure size 500x400 with 1 Axes>"
            ],
            "image/png": "[encoded data removed]"
          },
          "metadata": {}
        }
      ]
    },
    {
      "cell_type": "markdown",
      "source": [
        "# Этап 6: Эксперименты"
      ],
      "metadata": {
        "id": "IF1VQ2gAPMLV"
      }
    },
    {
      "cell_type": "code",
      "source": [
        "from sklearn.decomposition import PCA\n",
        "\n",
        "# PCA только на числовые признаки, категориальные — OHE\n",
        "numeric_pca = Pipeline([\n",
        "    (\"scaler\", StandardScaler()),\n",
        "    (\"pca\", PCA(n_components=0.95))  # сохраняем ~95% дисперсии\n",
        "])\n",
        "\n",
        "try:\n",
        "    categorical_ohe = OneHotEncoder(drop=\"first\", handle_unknown=\"ignore\", sparse_output=False)\n",
        "except TypeError:\n",
        "    categorical_ohe = OneHotEncoder(drop=\"first\", handle_unknown=\"ignore\", sparse=False)\n",
        "\n",
        "preproc_pca = ColumnTransformer([\n",
        "    (\"num\", numeric_pca, num_cols),\n",
        "    (\"cat\", categorical_ohe, cat_cols),\n",
        "])\n",
        "\n",
        "model_pca_en = GridSearchCV(\n",
        "    Pipeline([(\"prep\", preproc_pca), (\"model\", ElasticNet(max_iter=50_000))]),\n",
        "    param_grid={\"model__alpha\": np.logspace(-4,1,15), \"model__l1_ratio\": np.linspace(0.1,0.9,9)},\n",
        "    cv=cv, scoring=scoring, n_jobs=-1\n",
        ")\n",
        "model_pca_en.fit(X_train, y_train)\n",
        "pred = model_pca_en.predict(X_test)\n",
        "print(\"PCA+EN:\", regression_report(y_test, pred), \"Best:\", model_pca_en.best_params_)"
      ],
      "metadata": {
        "colab": {
          "base_uri": "https://localhost:8080/"
        },
        "id": "fwjVkAlBPLtK",
        "outputId": "822ca9ab-bbc1-4c35-d54b-4d01cfe5d50e"
      },
      "execution_count": 58,
      "outputs": [
        {
          "output_type": "stream",
          "name": "stdout",
          "text": [
            "PCA+EN: {'RMSE': 0.4172304920682161, 'MAE': 0.2608945525942712, 'MedAE': 0.19524251313944418, 'R2': 0.8265677886462229, 'EVS': 0.8270018890161054} Best: {'model__alpha': np.float64(0.00022758459260747887), 'model__l1_ratio': np.float64(0.9)}\n"
          ]
        }
      ]
    },
    {
      "cell_type": "code",
      "source": [
        "# === FWL (Frisch–Waugh–Lovell) с совместимостью OneHotEncoder ===\n",
        "import numpy as np\n",
        "import statsmodels.api as sm\n",
        "from sklearn.preprocessing import StandardScaler, OneHotEncoder\n",
        "from sklearn.compose import ColumnTransformer\n",
        "from sklearn.pipeline import Pipeline\n",
        "from sklearn.linear_model import LinearRegression\n",
        "\n",
        "# 1) Выбери главный признак, чью β хочешь оценить \"чисто\" от контролей Z\n",
        "X_star_name = \"ceiling_height_m\"  # <-- замените на нужное имя колонки\n",
        "assert X_star_name in X.columns, f\"{X_star_name} не найден в X.columns\"\n",
        "\n",
        "# 2) Совместимый OHE (новые и старые версии sklearn)\n",
        "def make_ohe():\n",
        "    try:\n",
        "        return OneHotEncoder(drop=\"first\", handle_unknown=\"ignore\", sparse_output=False)\n",
        "    except TypeError:\n",
        "        return OneHotEncoder(drop=\"first\", handle_unknown=\"ignore\", sparse=False)\n",
        "\n",
        "# 3) Разделим X на Z (контроли) и X* (главный признак)\n",
        "Z = X.drop(columns=[X_star_name])\n",
        "X_star = X[[X_star_name]]\n",
        "\n",
        "# Выделим типы для Z\n",
        "num_Z = Z.select_dtypes(include=[np.number]).columns.tolist()\n",
        "cat_Z = Z.select_dtypes(exclude=[np.number]).columns.tolist()\n",
        "\n",
        "# Препроцессинг для Z (тот же на train/test)\n",
        "prep_Z = ColumnTransformer(\n",
        "    [(\"num\", StandardScaler(), num_Z),\n",
        "     (\"cat\", Pipeline([(\"ohe\", make_ohe())]), cat_Z)],\n",
        "    remainder=\"drop\"\n",
        ")\n",
        "\n",
        "# 4) Согласуем разбиение с train/test\n",
        "Z_tr, Z_te = Z.loc[X_train.index], Z.loc[X_test.index]\n",
        "Xs_tr, Xs_te = X_star.loc[X_train.index], X_star.loc[X_test.index]\n",
        "y_tr,  y_te  = y.loc[X_train.index],  y.loc[X_test.index]\n",
        "\n",
        "# 5) Первая стадия: получаем остатки\n",
        "# ry = y - E[y|Z]\n",
        "ry_model = Pipeline([(\"prep\", prep_Z), (\"lr\", LinearRegression())]).fit(Z_tr, y_tr)\n",
        "ry_tr = y_tr - ry_model.predict(Z_tr)\n",
        "ry_te = y_te - ry_model.predict(Z_te)\n",
        "\n",
        "# rx = X* - E[X*|Z]  (только если X* числовой!)\n",
        "if not np.issubdtype(Xs_tr[X_star_name].dtype, np.number):\n",
        "    raise TypeError(f\"Признак {X_star_name} не числовой. Закодируйте его в число/индикатор перед FWL.\")\n",
        "\n",
        "rx_model = Pipeline([(\"prep\", prep_Z), (\"lr\", LinearRegression())]).fit(Z_tr, Xs_tr.values.ravel())\n",
        "rx_tr = Xs_tr.values.ravel() - rx_model.predict(Z_tr)\n",
        "rx_te = Xs_te.values.ravel() - rx_model.predict(Z_te)\n",
        "\n",
        "# 6) Вторая стадия: регрессия ry ~ rx (+ константа)\n",
        "beta_model = sm.OLS(ry_tr, sm.add_constant(rx_tr)).fit()\n",
        "print(beta_model.summary())\n"
      ],
      "metadata": {
        "colab": {
          "base_uri": "https://localhost:8080/"
        },
        "id": "dJs4bOy3PO23",
        "outputId": "692ccfa7-6d09-4d12-fbe3-c7d30395c1c9"
      },
      "execution_count": 59,
      "outputs": [
        {
          "output_type": "stream",
          "name": "stdout",
          "text": [
            "                            OLS Regression Results                            \n",
            "==============================================================================\n",
            "Dep. Variable:              price_log   R-squared:                       0.000\n",
            "Model:                            OLS   Adj. R-squared:                  0.000\n",
            "Method:                 Least Squares   F-statistic:                     2.937\n",
            "Date:                Mon, 27 Oct 2025   Prob (F-statistic):             0.0866\n",
            "Time:                        12:17:10   Log-Likelihood:                -2672.5\n",
            "No. Observations:                6398   AIC:                             5349.\n",
            "Df Residuals:                    6396   BIC:                             5363.\n",
            "Df Model:                           1                                         \n",
            "Covariance Type:            nonrobust                                         \n",
            "==============================================================================\n",
            "                 coef    std err          t      P>|t|      [0.025      0.975]\n",
            "------------------------------------------------------------------------------\n",
            "const      -1.116e-15      0.005  -2.43e-13      1.000      -0.009       0.009\n",
            "x1            -0.0062      0.004     -1.714      0.087      -0.013       0.001\n",
            "==============================================================================\n",
            "Omnibus:                     2316.427   Durbin-Watson:                   2.005\n",
            "Prob(Omnibus):                  0.000   Jarque-Bera (JB):            62955.352\n",
            "Skew:                          -1.144   Prob(JB):                         0.00\n",
            "Kurtosis:                      18.196   Cond. No.                         1.26\n",
            "==============================================================================\n",
            "\n",
            "Notes:\n",
            "[1] Standard Errors assume that the covariance matrix of the errors is correctly specified.\n"
          ]
        }
      ]
    },
    {
      "cell_type": "code",
      "source": [
        "from sklearn.model_selection import KFold\n",
        "from sklearn.linear_model import LassoCV\n",
        "\n",
        "kf = KFold(n_splits=2, shuffle=True, random_state=SEED)\n",
        "res_X, res_y = [], []\n",
        "\n",
        "for train_idx, hold_idx in kf.split(X):\n",
        "    X_tr, X_hold = X.iloc[train_idx], X.iloc[hold_idx]\n",
        "    y_tr, y_hold = y.iloc[train_idx], y.iloc[hold_idx]\n",
        "\n",
        "    # Первая стадия: ML-оценки m(Z)=E[y|Z], g(Z)=E[X*|Z]\n",
        "    Z_tr = X_tr.drop(columns=[X_star_name])\n",
        "    Z_hold = X_hold.drop(columns=[X_star_name])\n",
        "    Xs_tr = X_tr[[X_star_name]]\n",
        "    Xs_hold = X_hold[[X_star_name]]\n",
        "\n",
        "    # одинаковый препроцессинг\n",
        "    prep = ColumnTransformer([\n",
        "        (\"num\", StandardScaler(), Z_tr.select_dtypes(include=[np.number]).columns.tolist()),\n",
        "        (\"cat\", OneHotEncoder(drop=\"first\", handle_unknown=\"ignore\", sparse_output=False),\n",
        "         Z_tr.select_dtypes(exclude=[np.number]).columns.tolist()),\n",
        "    ])\n",
        "\n",
        "    m = Pipeline([(\"prep\", prep), (\"model\", LassoCV(cv=3, random_state=SEED, max_iter=50_000))]).fit(Z_tr, y_tr)\n",
        "    g = Pipeline([(\"prep\", prep), (\"model\", LassoCV(cv=3, random_state=SEED, max_iter=50_000))]).fit(Z_tr, Xs_tr.values.ravel())\n",
        "\n",
        "    ry = y_hold - m.predict(Z_hold)\n",
        "    rx = Xs_hold.values.ravel() - g.predict(Z_hold)\n",
        "\n",
        "    res_y.append(ry)\n",
        "    res_X.append(rx)\n",
        "\n",
        "# Склеиваем out-of-fold остатки и оцениваем β\n",
        "res_y = np.concatenate(res_y)\n",
        "res_X = np.concatenate(res_X)\n",
        "ddml_beta = sm.OLS(res_y, sm.add_constant(res_X)).fit()\n",
        "print(ddml_beta.summary())\n"
      ],
      "metadata": {
        "colab": {
          "base_uri": "https://localhost:8080/"
        },
        "id": "kvYEq9p4PQ2m",
        "outputId": "0b5118c8-e681-4d14-e54c-d8614a567ce6"
      },
      "execution_count": 60,
      "outputs": [
        {
          "output_type": "stream",
          "name": "stdout",
          "text": [
            "                            OLS Regression Results                            \n",
            "==============================================================================\n",
            "Dep. Variable:                      y   R-squared:                       0.000\n",
            "Model:                            OLS   Adj. R-squared:                 -0.000\n",
            "Method:                 Least Squares   F-statistic:                    0.3111\n",
            "Date:                Mon, 27 Oct 2025   Prob (F-statistic):              0.577\n",
            "Time:                        12:17:12   Log-Likelihood:                -4141.9\n",
            "No. Observations:                7109   AIC:                             8288.\n",
            "Df Residuals:                    7107   BIC:                             8302.\n",
            "Df Model:                           1                                         \n",
            "Covariance Type:            nonrobust                                         \n",
            "==============================================================================\n",
            "                 coef    std err          t      P>|t|      [0.025      0.975]\n",
            "------------------------------------------------------------------------------\n",
            "const         -0.0020      0.005     -0.397      0.691      -0.012       0.008\n",
            "x1            -0.0024      0.004     -0.558      0.577      -0.011       0.006\n",
            "==============================================================================\n",
            "Omnibus:                     7285.077   Durbin-Watson:                   1.274\n",
            "Prob(Omnibus):                  0.000   Jarque-Bera (JB):          3557515.188\n",
            "Skew:                          -4.311   Prob(JB):                         0.00\n",
            "Kurtosis:                     112.251   Cond. No.                         1.22\n",
            "==============================================================================\n",
            "\n",
            "Notes:\n",
            "[1] Standard Errors assume that the covariance matrix of the errors is correctly specified.\n"
          ]
        }
      ]
    },
    {
      "cell_type": "code",
      "source": [
        "def bootstrap_rmse(y_true, y_pred, B=1000, seed=SEED):\n",
        "    rng = np.random.RandomState(seed)\n",
        "    n = len(y_true)\n",
        "    vals = []\n",
        "    for _ in range(B):\n",
        "        idx = rng.randint(0, n, n)\n",
        "        vals.append(float(np.sqrt(mean_squared_error(y_true.iloc[idx], y_pred[idx]))))\n",
        "    lo, hi = np.percentile(vals, [2.5, 97.5])\n",
        "    return np.mean(vals), (lo, hi)\n",
        "\n",
        "# Пример для лучшей модели из summary\n",
        "best_name = summary.index[0]\n",
        "best_pipe = best_pipes[best_name]\n",
        "pred_test = best_pipe.predict(X_test)\n",
        "rmse_mean, (rmse_lo, rmse_hi) = bootstrap_rmse(y_test, pred_test, B=1000)\n",
        "print(f\"Bootstrap RMSE ~ {rmse_mean:.4f} (95% CI: {rmse_lo:.4f} – {rmse_hi:.4f})\")\n"
      ],
      "metadata": {
        "colab": {
          "base_uri": "https://localhost:8080/"
        },
        "id": "PFfn17iTPSR6",
        "outputId": "6e0188df-3605-440c-f86a-381d2be8a8e7"
      },
      "execution_count": 61,
      "outputs": [
        {
          "output_type": "stream",
          "name": "stdout",
          "text": [
            "Bootstrap RMSE ~ 0.3897 (95% CI: 0.3097 – 0.5088)\n"
          ]
        }
      ]
    },
    {
      "cell_type": "code",
      "source": [
        "import statsmodels.api as sm\n",
        "from statsmodels.stats.diagnostic import het_breuschpagan\n",
        "\n",
        "# Для корректных SE используем матрицу признаков после препроцессинга\n",
        "X_design = best_pipe.named_steps[\"prep\"].transform(X_train)\n",
        "X_design = sm.add_constant(X_design)\n",
        "ols_sm = sm.OLS(y_train.values, X_design).fit(cov_type=\"HC3\")\n",
        "print(ols_sm.summary())\n",
        "\n",
        "# Тест Breusch–Pagan на train\n",
        "bp_stat, bp_p, _, _ = het_breuschpagan(ols_sm.resid, X_design)\n",
        "print(f\"Breusch–Pagan: stat={bp_stat:.2f}, p-value={bp_p:.4f}\")\n"
      ],
      "metadata": {
        "colab": {
          "base_uri": "https://localhost:8080/"
        },
        "id": "Nk-U45t2PTjl",
        "outputId": "4f61820e-ff76-45c6-b65d-8473a345d239"
      },
      "execution_count": 62,
      "outputs": [
        {
          "output_type": "stream",
          "name": "stdout",
          "text": [
            "                            OLS Regression Results                            \n",
            "==============================================================================\n",
            "Dep. Variable:                      y   R-squared:                       0.876\n",
            "Model:                            OLS   Adj. R-squared:                  0.875\n",
            "Method:                 Least Squares   F-statistic:                 4.609e+05\n",
            "Date:                Mon, 27 Oct 2025   Prob (F-statistic):               0.00\n",
            "Time:                        12:17:13   Log-Likelihood:                -2672.5\n",
            "No. Observations:                6398   AIC:                             5427.\n",
            "Df Residuals:                    6357   BIC:                             5704.\n",
            "Df Model:                          40                                         \n",
            "Covariance Type:                  HC3                                         \n",
            "==============================================================================\n",
            "                 coef    std err          z      P>|z|      [0.025      0.975]\n",
            "------------------------------------------------------------------------------\n",
            "const         13.9420      0.016    866.128      0.000      13.910      13.974\n",
            "x1             0.1548      0.088      1.759      0.079      -0.018       0.327\n",
            "x2             0.0277      0.015      1.890      0.059      -0.001       0.056\n",
            "x3             0.0424      0.014      2.978      0.003       0.014       0.070\n",
            "x4             0.0142      0.014      0.984      0.325      -0.014       0.042\n",
            "x5             0.0345      0.006      5.720      0.000       0.023       0.046\n",
            "x6            -1.1657      0.444     -2.623      0.009      -2.037      -0.295\n",
            "x7            -1.2374      0.444     -2.789      0.005      -2.107      -0.368\n",
            "x8            -0.0572      0.006     -8.842      0.000      -0.070      -0.045\n",
            "x9            -0.0065      0.006     -1.065      0.287      -0.018       0.005\n",
            "x10           -0.0081      0.004     -1.830      0.067      -0.017       0.001\n",
            "x11           -0.0428      0.007     -6.409      0.000      -0.056      -0.030\n",
            "x12           -0.0181      0.006     -2.811      0.005      -0.031      -0.005\n",
            "x13           -0.0221      0.013     -1.738      0.082      -0.047       0.003\n",
            "x14           -0.0103      0.005     -2.146      0.032      -0.020      -0.001\n",
            "x15            0.4718      0.029     16.172      0.000       0.415       0.529\n",
            "x16            0.2098      0.018     11.714      0.000       0.175       0.245\n",
            "x17           -0.0234      0.012     -2.014      0.044      -0.046      -0.001\n",
            "x18           -0.0724      0.014     -5.159      0.000      -0.100      -0.045\n",
            "x19           -0.1191      0.024     -4.931      0.000      -0.166      -0.072\n",
            "x20            0.0420      0.010      4.064      0.000       0.022       0.062\n",
            "x21           -0.0290      0.018     -1.635      0.102      -0.064       0.006\n",
            "x22            0.0146      0.014      1.063      0.288      -0.012       0.042\n",
            "x23           -0.0385      0.027     -1.415      0.157      -0.092       0.015\n",
            "x24            0.1472      0.023      6.317      0.000       0.101       0.193\n",
            "x25           -0.0145      0.012     -1.194      0.232      -0.038       0.009\n",
            "x26            0.0702      0.011      6.401      0.000       0.049       0.092\n",
            "x27           -0.0392      0.015     -2.625      0.009      -0.068      -0.010\n",
            "x28           -0.0406      0.010     -4.091      0.000      -0.060      -0.021\n",
            "x29           -0.0787      0.012     -6.574      0.000      -0.102      -0.055\n",
            "x30            0.0800      0.010      7.762      0.000       0.060       0.100\n",
            "x31            0.0462      0.019      2.411      0.016       0.009       0.084\n",
            "x32           -0.0178      0.015     -1.204      0.229      -0.047       0.011\n",
            "x33            0.0428      0.010      4.106      0.000       0.022       0.063\n",
            "x34            0.1260      0.024      5.182      0.000       0.078       0.174\n",
            "x35            2.0056      0.014    146.017      0.000       1.979       2.033\n",
            "x36            1.5273      0.042     36.561      0.000       1.445       1.609\n",
            "x37            2.7477      0.085     32.456      0.000       2.582       2.914\n",
            "x38            1.5465      0.021     74.124      0.000       1.506       1.587\n",
            "x39            2.2512      0.015    151.176      0.000       2.222       2.280\n",
            "x40            2.4757      0.021    120.265      0.000       2.435       2.516\n",
            "x41            1.3881      0.021     66.106      0.000       1.347       1.429\n",
            "==============================================================================\n",
            "Omnibus:                     2316.427   Durbin-Watson:                   2.005\n",
            "Prob(Omnibus):                  0.000   Jarque-Bera (JB):            62955.352\n",
            "Skew:                          -1.144   Prob(JB):                         0.00\n",
            "Kurtosis:                      18.196   Cond. No.                     1.59e+16\n",
            "==============================================================================\n",
            "\n",
            "Notes:\n",
            "[1] Standard Errors are heteroscedasticity robust (HC3)\n",
            "[2] The smallest eigenvalue is 8.25e-29. This might indicate that there are\n",
            "strong multicollinearity problems or that the design matrix is singular.\n",
            "Breusch–Pagan: stat=2033.25, p-value=0.0000\n"
          ]
        }
      ]
    },
    {
      "cell_type": "code",
      "source": [
        "# пример: квартиль цены (по y, в лог-шкале), можно заменить на районы/города и т.п.\n",
        "q = pd.qcut(y_test, q=4, labels=[\"Q1\",\"Q2\",\"Q3\",\"Q4\"])\n",
        "seg = pd.DataFrame({\"y\": y_test, \"yhat\": pred_test, \"seg\": q})\n",
        "seg[\"abs_err\"] = (seg[\"y\"] - seg[\"yhat\"]).abs()\n",
        "print(seg.groupby(\"seg\")[\"abs_err\"].agg([\"mean\",\"median\",\"count\"]))\n"
      ],
      "metadata": {
        "colab": {
          "base_uri": "https://localhost:8080/"
        },
        "id": "w-VbF20iPU7c",
        "outputId": "c0b40f75-5e91-4a2e-8e3f-35d932112b18"
      },
      "execution_count": 63,
      "outputs": [
        {
          "output_type": "stream",
          "name": "stdout",
          "text": [
            "         mean    median  count\n",
            "seg                           \n",
            "Q1   0.269891  0.163130    183\n",
            "Q2   0.207188  0.159417    174\n",
            "Q3   0.188518  0.158595    178\n",
            "Q4   0.321904  0.247879    176\n"
          ]
        }
      ]
    },
    {
      "cell_type": "code",
      "source": [
        "from sklearn.linear_model import RANSACRegressor\n",
        "\n",
        "ransac = Pipeline([\n",
        "    (\"prep\", preprocessor),\n",
        "    (\"model\", RANSACRegressor(random_state=SEED))\n",
        "])\n",
        "\n",
        "ransac.fit(X_train, y_train)\n",
        "pred_ransac = ransac.predict(X_test)\n",
        "report_ransac = regression_report(y_test, pred_ransac)\n",
        "report_ransac\n"
      ],
      "metadata": {
        "colab": {
          "base_uri": "https://localhost:8080/"
        },
        "id": "eMLAImFXJhJa",
        "outputId": "d8dd5b80-9668-4fe4-8af3-4415d17edc97"
      },
      "execution_count": 64,
      "outputs": [
        {
          "output_type": "execute_result",
          "data": {
            "text/plain": [
              "{'RMSE': 2.088961311244561,\n",
              " 'MAE': 0.4107080663148091,\n",
              " 'MedAE': 0.15589649607669287,\n",
              " 'R2': -3.34748883012002,\n",
              " 'EVS': -3.2856704008927835}"
            ]
          },
          "metadata": {},
          "execution_count": 64
        }
      ]
    }
  ]
}